{
  "cells": [
    {
      "cell_type": "markdown",
      "metadata": {
        "id": "1FW0HS_LQX55"
      },
      "source": [
        "【Problem 1] Number of grains of rice on the 100th day Create a code to calculate how many grains of rice you receive in total on the 100th day, and output the answer. Also, use a line graph to represent the change in the number of rice grains you receive on that day and the total number of rice grains you receive by that day from day 1 to day 100. (The vertical axis is the number of rice and the horizontal axis is the number of days)"
      ]
    },
    {
      "cell_type": "code",
      "execution_count": null,
      "metadata": {
        "colab": {
          "base_uri": "https://localhost:8080/",
          "height": 276
        },
        "id": "CMxR-rCkQgyc",
        "outputId": "8c6b6cb8-9e80-4cfe-8dfe-0f0c53f94ebd"
      },
      "outputs": [
        {
          "data": {
            "image/png": "[encoded data removed]",
            "text/plain": [
              "<Figure size 432x288 with 1 Axes>"
            ]
          },
          "metadata": {
            "needs_background": "light"
          },
          "output_type": "display_data"
        }
      ],
      "source": [
        "import matplotlib.pyplot as plt\n",
        "day = 1\n",
        "rice = 1\n",
        "list_day = []\n",
        "list_rice = []\n",
        "while day<=100:\n",
        "  list_day.append(day)\n",
        "  list_rice.append(rice)\n",
        "  day += 1\n",
        "  rice *= 2\n",
        "\n",
        "fig, ax=plt.subplots()\n",
        "ax.plot(list_day, list_rice)\n",
        "plt.show()"
      ]
    },
    {
      "cell_type": "markdown",
      "metadata": {
        "id": "YCfsArE8Tqtj"
      },
      "source": [
        "【Problem 2] Number of rice grains outside of the 100th day The number of days in this anecdote is ambiguous, such as 30 days or 81 days. Let's create a function that takes days as an argument so that it can handle any story. After creating the function, please answer how many rice grains you will receive in the number of days you take the course."
      ]
    },
    {
      "cell_type": "code",
      "execution_count": 10,
      "metadata": {
        "colab": {
          "base_uri": "https://localhost:8080/",
          "height": 344
        },
        "id": "n_mFFuNeCXw2",
        "outputId": "0d2fdb59-4b69-4a4f-da93-80b84ec44762"
      },
      "outputs": [
        {
          "name": "stdout",
          "output_type": "stream",
          "text": [
            "[2, 4, 8, 16, 32, 64, 128, 256, 512, 1024, 2048, 4096, 8192, 16384, 32768, 65536, 131072, 262144, 524288, 1048576, 2097152, 4194304, 8388608, 16777216, 33554432, 67108864, 134217728, 268435456, 536870912, 1073741824, 2147483648, 4294967296, 8589934592, 17179869184, 34359738368, 68719476736, 137438953472, 274877906944, 549755813888, 1099511627776, 2199023255552, 4398046511104, 8796093022208, 17592186044416, 35184372088832, 70368744177664, 140737488355328, 281474976710656, 562949953421312, 1125899906842624, 2251799813685248, 4503599627370496, 9007199254740992, 18014398509481984, 36028797018963968, 72057594037927936, 144115188075855872, 288230376151711744, 576460752303423488, 1152921504606846976, 2305843009213693952, 4611686018427387904, 9223372036854775808, 18446744073709551616, 36893488147419103232, 73786976294838206464, 147573952589676412928, 295147905179352825856, 590295810358705651712, 1180591620717411303424, 2361183241434822606848, 4722366482869645213696, 9444732965739290427392, 18889465931478580854784, 37778931862957161709568, 75557863725914323419136, 151115727451828646838272, 302231454903657293676544, 604462909807314587353088, 1208925819614629174706176, 2417851639229258349412352, 4835703278458516698824704, 9671406556917033397649408, 19342813113834066795298816, 38685626227668133590597632, 77371252455336267181195264, 154742504910672534362390528, 309485009821345068724781056, 618970019642690137449562112, 1237940039285380274899124224, 2475880078570760549798248448, 4951760157141521099596496896, 9903520314283042199192993792, 19807040628566084398385987584, 39614081257132168796771975168, 79228162514264337593543950336, 158456325028528675187087900672, 316912650057057350374175801344, 633825300114114700748351602688, 1267650600228229401496703205376]\n",
            "[2, 6, 14, 30, 62, 126, 254, 510, 1022, 2046, 4094, 8190, 16382, 32766, 65534, 131070, 262142, 524286, 1048574, 2097150, 4194302, 8388606, 16777214, 33554430, 67108862, 134217726, 268435454, 536870910, 1073741822, 2147483646, 4294967294, 8589934590, 17179869182, 34359738366, 68719476734, 137438953470, 274877906942, 549755813886, 1099511627774, 2199023255550, 4398046511102, 8796093022206, 17592186044414, 35184372088830, 70368744177662, 140737488355326, 281474976710654, 562949953421310, 1125899906842622, 2251799813685246, 4503599627370494, 9007199254740990, 18014398509481982, 36028797018963966, 72057594037927934, 144115188075855870, 288230376151711742, 576460752303423486, 1152921504606846974, 2305843009213693950, 4611686018427387902, 9223372036854775806, 18446744073709551614, 36893488147419103230, 73786976294838206462, 147573952589676412926, 295147905179352825854, 590295810358705651710, 1180591620717411303422, 2361183241434822606846, 4722366482869645213694, 9444732965739290427390, 18889465931478580854782, 37778931862957161709566, 75557863725914323419134, 151115727451828646838270, 302231454903657293676542, 604462909807314587353086, 1208925819614629174706174, 2417851639229258349412350, 4835703278458516698824702, 9671406556917033397649406, 19342813113834066795298814, 38685626227668133590597630, 77371252455336267181195262, 154742504910672534362390526, 309485009821345068724781054, 618970019642690137449562110, 1237940039285380274899124222, 2475880078570760549798248446, 4951760157141521099596496894, 9903520314283042199192993790, 19807040628566084398385987582, 39614081257132168796771975166, 79228162514264337593543950334, 158456325028528675187087900670, 316912650057057350374175801342, 633825300114114700748351602686, 1267650600228229401496703205374, 2535301200456458802993406410750]\n"
          ]
        },
        {
          "data": {
            "image/png": "[encoded data removed]",
            "text/plain": [
              "<Figure size 432x288 with 1 Axes>"
            ]
          },
          "metadata": {
            "needs_background": "light"
          },
          "output_type": "display_data"
        }
      ],
      "source": [
        "import matplotlib.pyplot as plt\n",
        "list_n_grains = []\n",
        "list_total_grains = []\n",
        "def compute_sorori_shinzaemon(n_days=100):\n",
        "    \"\"\"\n",
        "    A function that calculates the number of rice grains per day in the rice anecdote of Shinzaemon Sorori.\n",
        "\n",
        "    Parameteres\n",
        "    -----------\n",
        "    n_days: int\n",
        "        Number of days to get rice (default : 100)\n",
        "\n",
        "    Returns\n",
        "    -------\n",
        "    list_n_grains : list\n",
        "        List of the number of rice you get one day (list length equals n_days)\n",
        "    list_total_grains : list\n",
        "        List of total number of rice received by a certain day (list length is equal to n_days)\n",
        "    \"\"\"\n",
        "    days=1\n",
        "    n_rice = 1\n",
        "    total_rice=0\n",
        "    while days<=n_days:\n",
        "      days += 1\n",
        "      n_rice *= 2\n",
        "      total_rice=total_rice+n_rice\n",
        "      list_n_grains.append(n_rice)\n",
        "      list_total_grains.append(total_rice)\n",
        "    pass\n",
        "\n",
        "    return list_n_grains, list_total_grains\n",
        "\n",
        "list_n_grains, list_total_grains = compute_sorori_shinzaemon(n_days=100)\n",
        "print(list_n_grains)\n",
        "print(list_total_grains)\n",
        "\n",
        "fig, ax=plt.subplots()\n",
        "ax.plot(list_n_grains, list_total_grains)\n",
        "plt.show()\n"
      ]
    },
    {
      "cell_type": "markdown",
      "metadata": {
        "id": "C1UiaxoPjwxi"
      },
      "source": [
        "【Problem 3] How many people can live for how many days with the rice we get? Create a function to calculate how many people can live for how many days with this rice. Output how many days the number of people in this class can live with the grains of rice they receive for the duration of the course."
      ]
    },
    {
      "cell_type": "markdown",
      "metadata": {
        "id": "D504gOyBnalL"
      },
      "source": [
        "One billion grains of rice could feed 50,000 people for one day. So 20000 grains could feed 1 people for one day. "
      ]
    },
    {
      "cell_type": "code",
      "execution_count": 14,
      "metadata": {
        "colab": {
          "base_uri": "https://localhost:8080/"
        },
        "id": "AYOOM9GJnldk",
        "outputId": "f13a1450-9e4d-40dd-91cd-b54b5b4605e5"
      },
      "outputs": [
        {
          "name": "stdout",
          "output_type": "stream",
          "text": [
            "2.1127510003803823e+24\n"
          ]
        }
      ],
      "source": [
        "def rice_function(x, y, z):\n",
        "  number_of_rice_grains = int           #number_of_rice_grains = x\n",
        "  number_of_people = int                #number_of_people = y\n",
        "  number_of_live_rice = int             #number_of_live_rice = z\n",
        "  answer = x/(y*z)\n",
        "  return answer\n",
        "print(rice_function(2535301200456458802993406410750, 60, 20000))"
      ]
    }
  ],
  "metadata": {
    "colab": {
      "authorship_tag": "ABX9TyMBHmj8MFQ8Zd9wKpSDZC7m",
      "collapsed_sections": [],
      "include_colab_link": true,
      "provenance": []
    },
    "kernelspec": {
      "display_name": "Python 3",
      "name": "python3"
    },
    "language_info": {
      "name": "python"
    }
  },
  "nbformat": 4,
  "nbformat_minor": 0
}
