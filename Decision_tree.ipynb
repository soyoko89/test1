{
  "cells": [
    {
      "cell_type": "markdown",
      "metadata": {
        "id": "kC9xLMu-hlf_"
      },
      "source": [
        "Decision tree"
      ]
    },
    {
      "cell_type": "code",
      "execution_count": 1,
      "metadata": {
        "id": "60LL5z7UgIPS"
      },
      "outputs": [],
      "source": [
        "import numpy as np\n",
        "import pandas as pd\n",
        "from sklearn.datasets import load_iris\n",
        "from sklearn.model_selection import train_test_split\n",
        "import collections \n",
        "from sklearn.tree import DecisionTreeClassifier\n",
        "iris_dataset = load_iris()\n",
        "X=iris_dataset['data'][:,[1,2]]\n",
        "X_train, X_test, y_train, y_test = train_test_split(X, iris_dataset['target'],test_size=0.3, random_state=0)"
      ]
    },
    {
      "cell_type": "code",
      "execution_count": 2,
      "metadata": {
        "id": "YWLLBYechilu"
      },
      "outputs": [],
      "source": [
        "class ScratchDecesionTreeClassifierDepth1():\n",
        "    \"\"\"\n",
        "    深さ1の決定木分類器のスクラッチ実装\n",
        "\n",
        "    Parameters\n",
        "    ----------\n",
        "    verbose : bool\n",
        "      学習過程を出力する場合はTrue\n",
        "    \"\"\"\n",
        "\n",
        "    def __init__(self, verbose=False):\n",
        "        # ハイパーパラメータを属性として記録\n",
        "        self.verbose = verbose\n",
        "\n",
        "    def fit(self, X, y):\n",
        "        self.gain = 0\n",
        "        for feature_index in range(X.shape[1]):\n",
        "            self.thresholds = np.unique(X[:,feature_index])\n",
        "            for threshold in self.thresholds:\n",
        "                _gain = self._calc_ig(X,feature_index,y,threshold)\n",
        "                if _gain > self.gain:\n",
        "                    self.l_label = collections.Counter(y[X[:,feature_index] < threshold]).most_common()[0][0]\n",
        "                    self.r_label = collections.Counter(y[X[:,feature_index] >= threshold]).most_common()[0][0]\n",
        "                    self.feature = feature_index\n",
        "                    self.threshold = threshold\n",
        "                    self.gain = _gain\n",
        "                    if self.verbose:\n",
        "                        print('feature',self.feature,'threshold',self.threshold,'gain',self.gain)\n",
        "\n",
        "    def predict(self, X):\n",
        "        prediction = np.where(X[:,self.feature] < self.threshold,self.l_label,self.r_label)\n",
        "        return prediction\n",
        "\n",
        "    def _calc_gini(self,y):\n",
        "        labels,counts = np.unique(y,return_counts=True)\n",
        "        _gini = 0\n",
        "        for label in labels:\n",
        "            _gini += (counts[labels==label]/np.sum(counts))**2\n",
        "        gini = 1 - _gini\n",
        "        return gini\n",
        "\n",
        "    def _calc_ig(self,X,feature_index,y,threshold):\n",
        "        labels_l = y[X[:,feature_index] < threshold]\n",
        "        labels_r = y[X[:,feature_index] >= threshold]\n",
        "        gain_l = (len(labels_l)/(len(labels_l)+len(labels_r)))*self._calc_gini(labels_l)\n",
        "        gain_r = (len(labels_r)/(len(labels_l)+len(labels_r)))*self._calc_gini(labels_r)\n",
        "        gain = self._calc_gini(y) -gain_l -gain_r\n",
        "        return gain"
      ]
    },
    {
      "cell_type": "code",
      "execution_count": 3,
      "metadata": {
        "colab": {
          "base_uri": "https://localhost:8080/"
        },
        "id": "ptPiBimWi7FW",
        "outputId": "923e8a08-6f60-428c-b6b3-eae0455a52c4"
      },
      "outputs": [
        {
          "name": "stdout",
          "output_type": "stream",
          "text": [
            "feature 0 threshold 2.2 gain [0.00698238]\n",
            "feature 0 threshold 2.4 gain [0.01197554]\n",
            "feature 0 threshold 2.5 gain [0.03157029]\n",
            "feature 0 threshold 2.6 gain [0.03735397]\n",
            "feature 0 threshold 2.7 gain [0.04052801]\n",
            "feature 0 threshold 2.8 gain [0.05123286]\n",
            "feature 0 threshold 2.9 gain [0.06191928]\n",
            "feature 0 threshold 3.0 gain [0.08613442]\n",
            "feature 0 threshold 3.1 gain [0.0892875]\n",
            "feature 1 threshold 1.5 gain [0.12369844]\n",
            "feature 1 threshold 1.6 gain [0.22645426]\n",
            "feature 1 threshold 1.7 gain [0.28824661]\n",
            "feature 1 threshold 3.0 gain [0.32949954]\n"
          ]
        }
      ],
      "source": [
        "clf = ScratchDecesionTreeClassifierDepth1(verbose = True)\n",
        "clf.fit(X_train,y_train)"
      ]
    },
    {
      "cell_type": "code",
      "execution_count": 4,
      "metadata": {
        "colab": {
          "base_uri": "https://localhost:8080/"
        },
        "id": "bl_5R8UOgSf9",
        "outputId": "876dc737-08b5-4503-9513-530db3f8f0ca"
      },
      "outputs": [
        {
          "name": "stdout",
          "output_type": "stream",
          "text": [
            "[[2.  3.5]\n",
            " [3.  5.5]\n",
            " [3.3 5.7]\n",
            " [2.2 5. ]\n",
            " [2.5 5.8]\n",
            " [2.5 3.9]\n",
            " [3.  6.1]\n",
            " [3.3 4.7]\n",
            " [2.4 3.8]\n",
            " [2.7 4.9]\n",
            " [2.8 5.1]\n",
            " [2.5 4.5]\n",
            " [2.5 5. ]\n",
            " [3.2 4.7]\n",
            " [3.  5.2]\n",
            " [3.4 4.5]\n",
            " [3.1 1.6]\n",
            " [2.7 5.1]\n",
            " [2.7 4.2]\n",
            " [2.9 3.6]\n",
            " [2.5 4. ]\n",
            " [3.  4.6]\n",
            " [3.2 6. ]\n",
            " [3.7 1.5]\n",
            " [3.  1.1]\n",
            " [2.7 5.3]\n",
            " [3.  4.2]\n",
            " [3.4 1.7]\n",
            " [4.4 1.5]\n",
            " [3.1 4.9]\n",
            " [3.1 1.5]\n",
            " [3.  5.1]\n",
            " [2.5 3. ]\n",
            " [3.4 1.4]\n",
            " [2.2 4.5]\n",
            " [3.6 6.1]\n",
            " [2.9 4.2]\n",
            " [3.  1.4]\n",
            " [3.  5.9]\n",
            " [3.2 5.7]\n",
            " [3.  5.8]\n",
            " [2.8 5.6]\n",
            " [3.8 1.6]\n",
            " [3.4 1.6]\n",
            " [3.2 5.1]\n",
            " [3.3 5.7]\n",
            " [2.3 1.3]\n",
            " [3.4 5.4]\n",
            " [3.  1.4]\n",
            " [2.5 5. ]\n",
            " [3.1 5.4]\n",
            " [3.2 1.3]\n",
            " [3.6 1.4]\n",
            " [3.  5.8]\n",
            " [3.5 1.4]\n",
            " [3.  1.3]\n",
            " [3.9 1.7]\n",
            " [2.3 4. ]\n",
            " [3.2 5.9]\n",
            " [3.  6.6]\n",
            " [3.5 1.4]\n",
            " [3.1 1.5]\n",
            " [3.4 1.4]\n",
            " [2.8 4.5]\n",
            " [3.  4.4]\n",
            " [3.2 1.2]\n",
            " [3.3 1.7]\n",
            " [2.9 4.3]\n",
            " [3.4 1.5]\n",
            " [2.6 6.9]\n",
            " [2.4 3.3]\n",
            " [3.8 6.4]\n",
            " [3.1 4.4]\n",
            " [4.1 1.5]\n",
            " [3.  4.8]\n",
            " [4.  1.2]\n",
            " [2.8 6.7]\n",
            " [3.8 1.5]\n",
            " [3.2 1.6]\n",
            " [2.8 6.1]\n",
            " [3.3 1.4]\n",
            " [3.4 5.6]\n",
            " [2.8 4.1]\n",
            " [2.7 3.9]\n",
            " [2.6 3.5]\n",
            " [3.2 5.3]\n",
            " [3.  5.2]\n",
            " [2.5 4.9]\n",
            " [3.  5. ]\n",
            " [3.  1.6]\n",
            " [2.4 3.7]\n",
            " [3.1 5.6]\n",
            " [2.7 5.1]\n",
            " [3.4 1.5]\n",
            " [2.9 4.6]\n",
            " [3.  4.1]\n",
            " [3.2 4.8]\n",
            " [2.3 4.4]\n",
            " [3.5 1.3]\n",
            " [3.7 1.5]\n",
            " [3.1 1.5]\n",
            " [2.9 5.6]\n",
            " [2.7 4.1]\n",
            " [3.8 6.7]\n",
            " [3.2 1.4]]\n"
          ]
        }
      ],
      "source": [
        "train_prediction = clf.predict(X_train)\n",
        "print(X_train)"
      ]
    },
    {
      "cell_type": "code",
      "execution_count": 5,
      "metadata": {
        "colab": {
          "base_uri": "https://localhost:8080/"
        },
        "id": "LR2zQJmjsSWN",
        "outputId": "a01408db-cfd4-45d1-bef1-b61d19510389"
      },
      "outputs": [
        {
          "name": "stdout",
          "output_type": "stream",
          "text": [
            "0.6952380952380952\n",
            "0.6952380952380952\n"
          ]
        }
      ],
      "source": [
        "from sklearn.metrics import accuracy_score\n",
        "accuracy_score(y_train, train_prediction)\n",
        "from sklearn.metrics import precision_score\n",
        "from sklearn.metrics import recall_score\n",
        "p_score = precision_score(y_train, train_prediction, average='micro')\n",
        "r_score = recall_score(y_train, train_prediction, average='micro')\n",
        "print(p_score, r_score, sep=\"\\n\")"
      ]
    },
    {
      "cell_type": "code",
      "execution_count": 6,
      "metadata": {
        "colab": {
          "base_uri": "https://localhost:8080/",
          "height": 594
        },
        "id": "R2xHKQEkQhMQ",
        "outputId": "f0c3d38a-5be6-43f8-bc00-cada4b30dd37"
      },
      "outputs": [
        {
          "name": "stdout",
          "output_type": "stream",
          "text": [
            "mesh shape:[[2.2  1.  ]\n",
            " [2.21 1.  ]\n",
            " [2.22 1.  ]\n",
            " ...\n",
            " [4.17 6.29]\n",
            " [4.18 6.29]\n",
            " [4.19 6.29]]\n"
          ]
        },
        {
          "data": {
            "image/png": "[encoded data removed]",
            "text/plain": [
              "<Figure size 640x480 with 1 Axes>"
            ]
          },
          "metadata": {},
          "output_type": "display_data"
        }
      ],
      "source": [
        "import matplotlib.colors\n",
        "import matplotlib.pyplot as plt\n",
        "\n",
        "def decision_region(X,y,slr):\n",
        "    mesh_f0, mesh_f1  = np.meshgrid(\n",
        "        np.arange(np.min(X[:,0]), np.max(X[:,0]), 0.01), \n",
        "        np.arange(np.min(X[:,1]), np.max(X[:,1]), 0.01)\n",
        "    )\n",
        "    mesh = np.c_[np.ravel(mesh_f0),np.ravel(mesh_f1)]\n",
        "    print(\"mesh shape:{}\".format(mesh))\n",
        "    y_pred = slr.predict(mesh).reshape(mesh_f0.shape)\n",
        "    plt.title('decision region')\n",
        "    plt.xlabel('feature0')\n",
        "    plt.ylabel('feature1')\n",
        "    plt.contourf(mesh_f0, mesh_f1, y_pred,cmap=matplotlib.colors.ListedColormap(['pink', 'skyblue']))\n",
        "    plt.contour(mesh_f0, mesh_f1, y_pred,colors='red')\n",
        "    plt.scatter(X[y==0][:, 0], X[y==0][:, 1],label='0')\n",
        "    plt.scatter(X[y==1][:, 0], X[y==1][:, 1],label='1')\n",
        "    plt.legend()\n",
        "    plt.show()\n",
        "\n",
        "decision_region(X_test, y_test, clf)\n"
      ]
    }
  ],
  "metadata": {
    "colab": {
      "include_colab_link": true,
      "provenance": []
    },
    "kernelspec": {
      "display_name": "Python 3",
      "name": "python3"
    },
    "language_info": {
      "name": "python"
    }
  },
  "nbformat": 4,
  "nbformat_minor": 0
}
