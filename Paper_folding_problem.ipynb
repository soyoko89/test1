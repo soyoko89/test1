{
  "cells": [
    {
      "cell_type": "markdown",
      "metadata": {
        "id": "KR6iE5GlnVX0"
      },
      "source": [
        "[Problem 1] Implementation using exponentiation arithmetic operators\n",
        "Create a program that uses the exponentiation arithmetic operator.\n",
        "As a template, we have prepared a code that calculates the thickness of a sheet of paper when it is folded once. Rewrite the code to calculate the thickness when the paper is folded 43 times."
      ]
    },
    {
      "cell_type": "code",
      "execution_count": null,
      "metadata": {
        "colab": {
          "base_uri": "https://localhost:8080/"
        },
        "id": "5dLEuEOdmrWZ",
        "outputId": "ac584e23-95ec-4f17-e669-24ea89fad838"
      },
      "outputs": [
        {
          "name": "stdout",
          "output_type": "stream",
          "text": [
            "Folded thickness: 703687441.77664 meters\n"
          ]
        }
      ],
      "source": [
        "THICKNESS = 0.00008\n",
        "\n",
        "folded_thickness = THICKNESS * 2**43         \n",
        "\n",
        "print(\"Folded thickness: {} meters\".format(folded_thickness))\n"
      ]
    },
    {
      "cell_type": "markdown",
      "metadata": {
        "id": "nODKGly4q2P9"
      },
      "source": [
        "[Problem 2] Unit Conversion If the unit is meters, it's hard to feel the difference, so please convert the unit to ◯◯ 10,000 kilometers and display it.\n",
        "\n",
        "As a sample, we have prepared a code converted to ◯◯ kilometers , so please use it as a reference. It specifies to display up to 2 digits after the decimal point."
      ]
    },
    {
      "cell_type": "code",
      "execution_count": null,
      "metadata": {
        "colab": {
          "base_uri": "https://localhost:8080/"
        },
        "id": "PW5Uq2o4rDe-",
        "outputId": "34de952d-e675-49f6-c920-e5035abe5513"
      },
      "outputs": [
        {
          "name": "stdout",
          "output_type": "stream",
          "text": [
            "Thickness:  703687.44 kilometers\n"
          ]
        }
      ],
      "source": [
        "# Convert meters to kilometers and display with two decimal places\n",
        "print(\"Thickness: {: .2f} kilometers\".format(folded_thickness / 1000))"
      ]
    },
    {
      "cell_type": "markdown",
      "metadata": {
        "id": "44KjLlc3wZ4e"
      },
      "source": [
        "[Problem 3] Create using a for statement\n",
        "Next, create a program that uses the for statement.\n",
        "\n",
        "Do not use exponentiation arithmetic operators. Only the four arithmetic operations+ , - , * , / ) are allowed."
      ]
    },
    {
      "cell_type": "code",
      "execution_count": null,
      "metadata": {
        "colab": {
          "base_uri": "https://localhost:8080/"
        },
        "id": "RbNUAJNcwojN",
        "outputId": "4081191e-bb60-4e27-bd39-657eab51e538"
      },
      "outputs": [
        {
          "name": "stdout",
          "output_type": "stream",
          "text": [
            "0.00016\n",
            "0.00032\n",
            "0.00064\n",
            "0.00128\n",
            "0.00256\n",
            "0.00512\n",
            "0.01024\n",
            "0.02048\n",
            "0.04096\n",
            "0.08192\n",
            "0.16384\n",
            "0.32768\n",
            "0.65536\n",
            "1.31072\n",
            "2.62144\n",
            "5.24288\n",
            "10.48576\n",
            "20.97152\n",
            "41.94304\n",
            "83.88608\n",
            "167.77216\n",
            "335.54432\n",
            "671.08864\n",
            "1342.17728\n",
            "2684.35456\n",
            "5368.70912\n",
            "10737.41824\n",
            "21474.83648\n",
            "42949.67296\n",
            "85899.34592\n",
            "171798.69184\n",
            "343597.38368\n",
            "687194.76736\n",
            "1374389.53472\n",
            "2748779.06944\n",
            "5497558.13888\n",
            "10995116.27776\n",
            "21990232.55552\n",
            "43980465.11104\n",
            "87960930.22208\n",
            "175921860.44416\n",
            "351843720.88832\n",
            "703687441.77664\n"
          ]
        }
      ],
      "source": [
        "Thickness = 0.00008\n",
        "for i in range(43):\n",
        "  Thickness = Thickness * 2 \n",
        "  print(Thickness)"
      ]
    },
    {
      "cell_type": "markdown",
      "metadata": {
        "id": "Fj4hHPEgVtTK"
      },
      "source": [
        "[Problem 4] Comparison of calculation time "
      ]
    },
    {
      "cell_type": "code",
      "execution_count": 1,
      "metadata": {
        "colab": {
          "base_uri": "https://localhost:8080/"
        },
        "id": "mBrzFmW1WLvF",
        "outputId": "9f6abaf7-cc79-4c28-cb00-cd1a70306f7e"
      },
      "outputs": [
        {
          "name": "stdout",
          "output_type": "stream",
          "text": [
            "Folded thickness: 703687441.77664 meters\n",
            "time : 0.0[s]\n"
          ]
        }
      ],
      "source": [
        "import time\n",
        "start = time.time()\n",
        "#####\n",
        "THICKNESS = 0.00008\n",
        "folded_thickness = THICKNESS * 2**43         \n",
        "print(\"Folded thickness: {} meters\".format(folded_thickness))\n",
        "#####\n",
        "elapsed_time = time.time() - start\n",
        "print(\"time : {}[s]\".format(elapsed_time))"
      ]
    },
    {
      "cell_type": "code",
      "execution_count": null,
      "metadata": {
        "colab": {
          "base_uri": "https://localhost:8080/"
        },
        "id": "lHW3WVgdW09o",
        "outputId": "83c3d43e-8ffc-489c-cda5-ae41b9879c99"
      },
      "outputs": [
        {
          "name": "stdout",
          "output_type": "stream",
          "text": [
            "0.00016\n",
            "0.00032\n",
            "0.00064\n",
            "0.00128\n",
            "0.00256\n",
            "0.00512\n",
            "0.01024\n",
            "0.02048\n",
            "0.04096\n",
            "0.08192\n",
            "0.16384\n",
            "0.32768\n",
            "0.65536\n",
            "1.31072\n",
            "2.62144\n",
            "5.24288\n",
            "10.48576\n",
            "20.97152\n",
            "41.94304\n",
            "83.88608\n",
            "167.77216\n",
            "335.54432\n",
            "671.08864\n",
            "1342.17728\n",
            "2684.35456\n",
            "5368.70912\n",
            "10737.41824\n",
            "21474.83648\n",
            "42949.67296\n",
            "85899.34592\n",
            "171798.69184\n",
            "343597.38368\n",
            "687194.76736\n",
            "1374389.53472\n",
            "2748779.06944\n",
            "5497558.13888\n",
            "10995116.27776\n",
            "21990232.55552\n",
            "43980465.11104\n",
            "87960930.22208\n",
            "175921860.44416\n",
            "351843720.88832\n",
            "703687441.77664\n",
            "time : 0.004119873046875[s]\n"
          ]
        }
      ],
      "source": [
        "import time\n",
        "start = time.time()\n",
        "#####\n",
        "Thickness = 0.00008\n",
        "for i in range(43):\n",
        "  Thickness = Thickness * 2 \n",
        "  print(Thickness)\n",
        "#####\n",
        "elapsed_time = time.time() - start\n",
        "print(\"time : {}[s]\".format(elapsed_time))"
      ]
    },
    {
      "cell_type": "markdown",
      "metadata": {
        "id": "oV1CNpS49gnq"
      },
      "source": [
        "[Problem 5] Saving to a list"
      ]
    },
    {
      "cell_type": "code",
      "execution_count": 2,
      "metadata": {
        "colab": {
          "base_uri": "https://localhost:8080/"
        },
        "id": "wawc0RYr9l3W",
        "outputId": "97106ad8-c0f9-4906-8312-2f4488643cb3"
      },
      "outputs": [
        {
          "name": "stdout",
          "output_type": "stream",
          "text": [
            "lenght of list:44\n",
            "[0.00016, 0.00032, 0.00064, 0.00128, 0.00256, 0.00512, 0.01024, 0.02048, 0.04096, 0.08192, 0.16384, 0.32768, 0.65536, 1.31072, 2.62144, 5.24288, 10.48576, 20.97152, 41.94304, 83.88608, 167.77216, 335.54432, 671.08864, 1342.17728, 2684.35456, 5368.70912, 10737.41824, 21474.83648, 42949.67296, 85899.34592, 171798.69184, 343597.38368, 687194.76736, 1374389.53472, 2748779.06944, 5497558.13888, 10995116.27776, 21990232.55552, 43980465.11104, 87960930.22208, 175921860.44416, 351843720.88832, 703687441.77664, 1407374883.55328]\n"
          ]
        }
      ],
      "source": [
        "thickness = 0.00008\n",
        "list = []\n",
        "folded_thickness = thickness * 2\n",
        "for i in range(44):\n",
        "  list.append(folded_thickness)\n",
        "  folded_thickness = folded_thickness * 2\n",
        "print(\"lenght of list:{}\".format(len(list)))\n",
        "print(list)"
      ]
    },
    {
      "cell_type": "markdown",
      "metadata": {
        "id": "e4gRO-Z0X1VI"
      },
      "source": [
        "[Problem 6] Displaying a line graph A library called Matplotlib is used to draw the graph. Use the following template after the code you want to record in the list."
      ]
    },
    {
      "cell_type": "code",
      "execution_count": 2,
      "metadata": {
        "colab": {
          "base_uri": "https://localhost:8080/",
          "height": 295
        },
        "id": "Cp8S95fkYHRM",
        "outputId": "59a6f8b9-0633-4479-fcd3-d92db406eebe"
      },
      "outputs": [
        {
          "data": {
            "image/png": "[encoded data removed]",
            "text/plain": [
              "<Figure size 432x288 with 1 Axes>"
            ]
          },
          "metadata": {
            "needs_background": "light"
          },
          "output_type": "display_data"
        }
      ],
      "source": [
        "import matplotlib.pyplot as plt\n",
        "%matplotlib inline\n",
        "thickness = [0.00016, 0.00032, 0.00064, 0.00128, 0.00256, 0.00512, 0.01024, 0.02048, 0.04096, 0.08192, 0.16384, 0.32768, 0.65536, 1.31072, 2.62144, 5.24288, 10.48576, 20.97152, 41.94304, 83.88608, 167.77216, 335.54432, 671.08864, 1342.17728, 2684.35456, 5368.70912, 10737.41824, 21474.83648, 42949.67296, 85899.34592, 171798.69184, 343597.38368, 687194.76736, 1374389.53472, 2748779.06944, 5497558.13888, 10995116.27776, 21990232.55552, 43980465.11104, 87960930.22208, 175921860.44416, 351843720.88832, 703687441.77664, 1407374883.55328]\n",
        "plt.title(\"thickness of folded paper\")\n",
        "plt.xlabel(\"number of folds\")\n",
        "plt.ylabel(\"thickness [m]\")\n",
        "plt.plot(thickness) \n",
        "plt.show()"
      ]
    },
    {
      "cell_type": "markdown",
      "metadata": {
        "id": "67EtyermF7Xm"
      },
      "source": [
        "[Problem 7] Customizing graphs Let's customize the graph to make it easier to see. Create at least 3 customized graphs. For example, the line color can be changed to red by rewriting as follows."
      ]
    },
    {
      "cell_type": "code",
      "execution_count": 5,
      "metadata": {
        "colab": {
          "base_uri": "https://localhost:8080/",
          "height": 295
        },
        "id": "Iq8-cixYGePK",
        "outputId": "440f3863-d171-4dee-abee-ba3cbb05e60b"
      },
      "outputs": [
        {
          "data": {
            "image/png": "[encoded data removed]",
            "text/plain": [
              "<Figure size 432x288 with 1 Axes>"
            ]
          },
          "metadata": {
            "needs_background": "light"
          },
          "output_type": "display_data"
        }
      ],
      "source": [
        "import matplotlib.pyplot as plt\n",
        "%matplotlib inline\n",
        "thickness = [0.00016, 0.00032, 0.00064, 0.00128, 0.00256, 0.00512, 0.01024, 0.02048, 0.04096, 0.08192, 0.16384, 0.32768, 0.65536, 1.31072, 2.62144, 5.24288, 10.48576, 20.97152, 41.94304, 83.88608, 167.77216, 335.54432, 671.08864, 1342.17728, 2684.35456, 5368.70912, 10737.41824, 21474.83648, 42949.67296, 85899.34592, 171798.69184, 343597.38368, 687194.76736, 1374389.53472, 2748779.06944, 5497558.13888, 10995116.27776, 21990232.55552, 43980465.11104, 87960930.22208, 175921860.44416, 351843720.88832, 703687441.77664, 1407374883.55328]\n",
        "plt.title(\"thickness of folded paper\")\n",
        "plt.xlabel(\"number of folds\")\n",
        "plt.ylabel(\"thickness [m]\")\n",
        "plt.plot(thickness, color='yellow') \n",
        "plt.show()"
      ]
    },
    {
      "cell_type": "code",
      "execution_count": 6,
      "metadata": {
        "colab": {
          "base_uri": "https://localhost:8080/",
          "height": 295
        },
        "id": "gFdWfewpM4Eb",
        "outputId": "69a677d0-f834-4c84-84ba-60dd6025e8aa"
      },
      "outputs": [
        {
          "data": {
            "image/png": "[encoded data removed]",
            "text/plain": [
              "<Figure size 432x288 with 1 Axes>"
            ]
          },
          "metadata": {
            "needs_background": "light"
          },
          "output_type": "display_data"
        }
      ],
      "source": [
        "import matplotlib.pyplot as plt\n",
        "%matplotlib inline\n",
        "thickness = [0.00016, 0.00032, 0.00064, 0.00128, 0.00256, 0.00512, 0.01024, 0.02048, 0.04096, 0.08192, 0.16384, 0.32768, 0.65536, 1.31072, 2.62144, 5.24288, 10.48576, 20.97152, 41.94304, 83.88608, 167.77216, 335.54432, 671.08864, 1342.17728, 2684.35456, 5368.70912, 10737.41824, 21474.83648, 42949.67296, 85899.34592, 171798.69184, 343597.38368, 687194.76736, 1374389.53472, 2748779.06944, 5497558.13888, 10995116.27776, 21990232.55552, 43980465.11104, 87960930.22208, 175921860.44416, 351843720.88832, 703687441.77664, 1407374883.55328]\n",
        "plt.title(\"thickness of folded paper\")\n",
        "plt.xlabel(\"number of folds\")\n",
        "plt.ylabel(\"thickness [m]\")\n",
        "plt.plot(thickness, linewidth=10) \n",
        "plt.show()"
      ]
    },
    {
      "cell_type": "code",
      "execution_count": 7,
      "metadata": {
        "colab": {
          "base_uri": "https://localhost:8080/",
          "height": 295
        },
        "id": "2CiYce3AOd11",
        "outputId": "5e2a8c32-5035-4e61-a3f2-b6826ba2fdf2"
      },
      "outputs": [
        {
          "data": {
            "image/png": "[encoded data removed]",
            "text/plain": [
              "<Figure size 432x288 with 1 Axes>"
            ]
          },
          "metadata": {
            "needs_background": "light"
          },
          "output_type": "display_data"
        }
      ],
      "source": [
        "import matplotlib.pyplot as plt\n",
        "%matplotlib inline\n",
        "thickness = [0.00016, 0.00032, 0.00064, 0.00128, 0.00256, 0.00512, 0.01024, 0.02048, 0.04096, 0.08192, 0.16384, 0.32768, 0.65536, 1.31072, 2.62144, 5.24288, 10.48576, 20.97152, 41.94304, 83.88608, 167.77216, 335.54432, 671.08864, 1342.17728, 2684.35456, 5368.70912, 10737.41824, 21474.83648, 42949.67296, 85899.34592, 171798.69184, 343597.38368, 687194.76736, 1374389.53472, 2748779.06944, 5497558.13888, 10995116.27776, 21990232.55552, 43980465.11104, 87960930.22208, 175921860.44416, 351843720.88832, 703687441.77664, 1407374883.55328]\n",
        "plt.title(\"thickness of folded paper\")\n",
        "plt.xlabel(\"number of folds\")\n",
        "plt.ylabel(\"thickness [m]\")\n",
        "plt.plot(thickness, linestyle='--') \n",
        "plt.show()"
      ]
    },
    {
      "cell_type": "code",
      "execution_count": 4,
      "metadata": {
        "colab": {
          "base_uri": "https://localhost:8080/",
          "height": 304
        },
        "id": "yO5FUejJMWgW",
        "outputId": "ad083683-b7d6-4439-88cf-e11dddf963cd"
      },
      "outputs": [
        {
          "data": {
            "image/png": "[encoded data removed]",
            "text/plain": [
              "<Figure size 432x288 with 1 Axes>"
            ]
          },
          "metadata": {
            "needs_background": "light"
          },
          "output_type": "display_data"
        }
      ],
      "source": [
        "import matplotlib.pyplot as plt\n",
        "%matplotlib inline\n",
        "thickness = [0.00016, 0.00032, 0.00064, 0.00128, 0.00256, 0.00512, 0.01024, 0.02048, 0.04096, 0.08192, 0.16384, 0.32768, 0.65536, 1.31072, 2.62144, 5.24288, 10.48576, 20.97152, 41.94304, 83.88608, 167.77216, 335.54432, 671.08864, 1342.17728, 2684.35456, 5368.70912, 10737.41824, 21474.83648, 42949.67296, 85899.34592, 171798.69184, 343597.38368, 687194.76736, 1374389.53472, 2748779.06944, 5497558.13888, 10995116.27776, 21990232.55552, 43980465.11104, 87960930.22208, 175921860.44416, 351843720.88832, 703687441.77664, 1407374883.55328]\n",
        "plt.title(\"thickness of folded paper\")\n",
        "plt.xlabel(\"number of folds\")\n",
        "plt.ylabel(\"thickness [m]\")\n",
        "plt.tick_params(labelsize=20)\n",
        "plt.plot(thickness) \n",
        "plt.show()"
      ]
    },
    {
      "cell_type": "code",
      "execution_count": 8,
      "metadata": {
        "colab": {
          "base_uri": "https://localhost:8080/",
          "height": 304
        },
        "id": "UlqCxINxOpsr",
        "outputId": "d26ab6b2-528e-4056-f4ce-8a0c4d210a75"
      },
      "outputs": [
        {
          "data": {
            "image/png": "[encoded data removed]",
            "text/plain": [
              "<Figure size 432x288 with 1 Axes>"
            ]
          },
          "metadata": {
            "needs_background": "light"
          },
          "output_type": "display_data"
        }
      ],
      "source": [
        "import matplotlib.pyplot as plt\n",
        "%matplotlib inline\n",
        "thickness = [0.00016, 0.00032, 0.00064, 0.00128, 0.00256, 0.00512, 0.01024, 0.02048, 0.04096, 0.08192, 0.16384, 0.32768, 0.65536, 1.31072, 2.62144, 5.24288, 10.48576, 20.97152, 41.94304, 83.88608, 167.77216, 335.54432, 671.08864, 1342.17728, 2684.35456, 5368.70912, 10737.41824, 21474.83648, 42949.67296, 85899.34592, 171798.69184, 343597.38368, 687194.76736, 1374389.53472, 2748779.06944, 5497558.13888, 10995116.27776, 21990232.55552, 43980465.11104, 87960930.22208, 175921860.44416, 351843720.88832, 703687441.77664, 1407374883.55328]\n",
        "plt.title(\"thickness of folded paper\")\n",
        "plt.xlabel(\"number of folds\")\n",
        "plt.ylabel(\"thickness [m]\")\n",
        "plt.tick_params(labelsize=20)\n",
        "plt.plot(thickness, color='yellow', linewidth=10, linestyle='--') \n",
        "plt.show()"
      ]
    }
  ],
  "metadata": {
    "colab": {
      "authorship_tag": "ABX9TyOp3S0haO0NHwr7g7sAkxZk",
      "include_colab_link": true,
      "provenance": []
    },
    "kernelspec": {
      "display_name": "Python 3",
      "name": "python3"
    },
    "language_info": {
      "codemirror_mode": {
        "name": "ipython",
        "version": 3
      },
      "file_extension": ".py",
      "mimetype": "text/x-python",
      "name": "python",
      "nbconvert_exporter": "python",
      "pygments_lexer": "ipython3",
      "version": "3.10.11"
    }
  },
  "nbformat": 4,
  "nbformat_minor": 0
}
