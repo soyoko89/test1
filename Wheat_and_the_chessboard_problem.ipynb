{
  "cells": [
    {
      "cell_type": "markdown",
      "metadata": {
        "id": "iZYZITgSK-RY"
      },
      "source": [
        "[Question 1] Number of wheat on a 2x2 square chessboard Represent a chessboard with 2x2 squares as an ndarray and calculate the number of grains in each square. Place 1 wheat in the top left square, then 2 on the right, 4 on the bottom left, 8 on the bottom right, and so on."
      ]
    },
    {
      "cell_type": "code",
      "execution_count": 4,
      "metadata": {
        "colab": {
          "base_uri": "https://localhost:8080/"
        },
        "id": "WNqTf-meZTaH",
        "outputId": "de59f6bb-bba3-486f-e0ce-0e350150db4f"
      },
      "outputs": [
        {
          "name": "stdout",
          "output_type": "stream",
          "text": [
            "4マスの板に小麦を並べる（リスト）：[1, 2]\n",
            "4マスの板に小麦を並べる（リスト）：[1, 2, 4]\n",
            "4マスの板に小麦を並べる（リスト）：[1, 2, 4, 8]\n"
          ]
        }
      ],
      "source": [
        "n_squares = 4\n",
        "small_board_list = [1]\n",
        "for _ in range(n_squares - 1):\n",
        "    small_board_list.append(2*small_board_list[-1])\n",
        "    print(\"4マスの板に小麦を並べる（リスト）：{}\".format(small_board_list))"
      ]
    },
    {
      "cell_type": "code",
      "execution_count": 6,
      "metadata": {
        "colab": {
          "base_uri": "https://localhost:8080/"
        },
        "id": "H52-fREOLMyp",
        "outputId": "1d65d139-ba9d-42f8-abcb-01ca461d341c"
      },
      "outputs": [
        {
          "name": "stdout",
          "output_type": "stream",
          "text": [
            "4マスの板に小麦を並べる（ndarray）：[1 2 4 8]\n"
          ]
        }
      ],
      "source": [
        "import numpy as np\n",
        "small_board_ndarray = np.array(small_board_list)\n",
        "print(\"4マスの板に小麦を並べる（ndarray）：{}\".format(small_board_ndarray))"
      ]
    },
    {
      "cell_type": "code",
      "execution_count": 3,
      "metadata": {
        "colab": {
          "base_uri": "https://localhost:8080/"
        },
        "id": "vI7dnicQZtHc",
        "outputId": "8a8d519b-f921-4c63-a495-4dc88d0fe793"
      },
      "outputs": [
        {
          "name": "stdout",
          "output_type": "stream",
          "text": [
            "2x2array: [[1 2]\n",
            " [4 8]]\n"
          ]
        }
      ],
      "source": [
        "small_board_2x2array = small_board_ndarray.reshape((2,2))\n",
        "print('2x2array: {}'.format(small_board_2x2array))"
      ]
    },
    {
      "cell_type": "markdown",
      "metadata": {
        "id": "Y_22PabDLNMQ"
      },
      "source": [
        "[Problem 2] Extension to n × m squares Create a function that returns an ndarray of wheat counts on an nxm chessboard. Then use this function to find the number of wheat on an 8x8 chessboard."
      ]
    },
    {
      "cell_type": "code",
      "execution_count": 7,
      "metadata": {
        "colab": {
          "base_uri": "https://localhost:8080/"
        },
        "id": "yzpKrjaEtRks",
        "outputId": "0f0046a8-39ca-41e5-cd4a-6117e4af4891"
      },
      "outputs": [
        {
          "name": "stdout",
          "output_type": "stream",
          "text": [
            "[1, 2, 4, 8, 16, 32, 64, 128, 256, 512, 1024, 2048, 4096, 8192, 16384, 32768, 65536, 131072, 262144, 524288, 1048576, 2097152, 4194304, 8388608, 16777216, 33554432, 67108864, 134217728, 268435456, 536870912, 1073741824, 2147483648, 4294967296, 8589934592, 17179869184, 34359738368, 68719476736, 137438953472, 274877906944, 549755813888, 1099511627776, 2199023255552, 4398046511104, 8796093022208, 17592186044416, 35184372088832, 70368744177664, 140737488355328, 281474976710656, 562949953421312, 1125899906842624, 2251799813685248, 4503599627370496, 9007199254740992, 18014398509481984, 36028797018963968, 72057594037927936, 144115188075855872, 288230376151711744, 576460752303423488, 1152921504606846976, 2305843009213693952, 4611686018427387904, 9223372036854775808]\n"
          ]
        }
      ],
      "source": [
        "def n_square_function(n,m):\n",
        "  n_squares = n*m\n",
        "  small_board_list = [1]\n",
        "  for _ in range(n_squares - 1):\n",
        "    small_board_list.append(2*small_board_list[-1])\n",
        "  return small_board_list \n",
        "print(n_square_function(8,8))"
      ]
    },
    {
      "cell_type": "code",
      "execution_count": null,
      "metadata": {
        "colab": {
          "base_uri": "https://localhost:8080/"
        },
        "id": "kyspCnjRcEqB",
        "outputId": "e8fee933-cb9d-4cf3-e49e-6248da8d0451"
      },
      "outputs": [
        {
          "name": "stdout",
          "output_type": "stream",
          "text": [
            "4マスの板に小麦を並べる（ndarray）：[1.00000000e+00 2.00000000e+00 4.00000000e+00 8.00000000e+00\n",
            " 1.60000000e+01 3.20000000e+01 6.40000000e+01 1.28000000e+02\n",
            " 2.56000000e+02 5.12000000e+02 1.02400000e+03 2.04800000e+03\n",
            " 4.09600000e+03 8.19200000e+03 1.63840000e+04 3.27680000e+04\n",
            " 6.55360000e+04 1.31072000e+05 2.62144000e+05 5.24288000e+05\n",
            " 1.04857600e+06 2.09715200e+06 4.19430400e+06 8.38860800e+06\n",
            " 1.67772160e+07 3.35544320e+07 6.71088640e+07 1.34217728e+08\n",
            " 2.68435456e+08 5.36870912e+08 1.07374182e+09 2.14748365e+09\n",
            " 4.29496730e+09 8.58993459e+09 1.71798692e+10 3.43597384e+10\n",
            " 6.87194767e+10 1.37438953e+11 2.74877907e+11 5.49755814e+11\n",
            " 1.09951163e+12 2.19902326e+12 4.39804651e+12 8.79609302e+12\n",
            " 1.75921860e+13 3.51843721e+13 7.03687442e+13 1.40737488e+14\n",
            " 2.81474977e+14 5.62949953e+14 1.12589991e+15 2.25179981e+15\n",
            " 4.50359963e+15 9.00719925e+15 1.80143985e+16 3.60287970e+16\n",
            " 7.20575940e+16 1.44115188e+17 2.88230376e+17 5.76460752e+17\n",
            " 1.15292150e+18 2.30584301e+18 4.61168602e+18 9.22337204e+18]\n",
            "(64,)\n"
          ]
        }
      ],
      "source": [
        "import numpy as np\n",
        "small_board_list=n_square_function(8,8)\n",
        "\n",
        "small_board_ndarray = np.array(small_board_list)\n",
        "print(\"4マスの板に小麦を並べる（ndarray）：{}\".format(small_board_ndarray))\n",
        "print(small_board_ndarray.shape)"
      ]
    },
    {
      "cell_type": "code",
      "execution_count": null,
      "metadata": {
        "colab": {
          "base_uri": "https://localhost:8080/"
        },
        "id": "zJwUJBfdcGlA",
        "outputId": "d20dd078-5a2d-4521-bed7-a8eafaac9381"
      },
      "outputs": [
        {
          "name": "stdout",
          "output_type": "stream",
          "text": [
            "8x8array: [[1.00000000e+00 2.00000000e+00 4.00000000e+00 8.00000000e+00\n",
            "  1.60000000e+01 3.20000000e+01 6.40000000e+01 1.28000000e+02]\n",
            " [2.56000000e+02 5.12000000e+02 1.02400000e+03 2.04800000e+03\n",
            "  4.09600000e+03 8.19200000e+03 1.63840000e+04 3.27680000e+04]\n",
            " [6.55360000e+04 1.31072000e+05 2.62144000e+05 5.24288000e+05\n",
            "  1.04857600e+06 2.09715200e+06 4.19430400e+06 8.38860800e+06]\n",
            " [1.67772160e+07 3.35544320e+07 6.71088640e+07 1.34217728e+08\n",
            "  2.68435456e+08 5.36870912e+08 1.07374182e+09 2.14748365e+09]\n",
            " [4.29496730e+09 8.58993459e+09 1.71798692e+10 3.43597384e+10\n",
            "  6.87194767e+10 1.37438953e+11 2.74877907e+11 5.49755814e+11]\n",
            " [1.09951163e+12 2.19902326e+12 4.39804651e+12 8.79609302e+12\n",
            "  1.75921860e+13 3.51843721e+13 7.03687442e+13 1.40737488e+14]\n",
            " [2.81474977e+14 5.62949953e+14 1.12589991e+15 2.25179981e+15\n",
            "  4.50359963e+15 9.00719925e+15 1.80143985e+16 3.60287970e+16]\n",
            " [7.20575940e+16 1.44115188e+17 2.88230376e+17 5.76460752e+17\n",
            "  1.15292150e+18 2.30584301e+18 4.61168602e+18 9.22337204e+18]]\n",
            "(8, 8)\n"
          ]
        }
      ],
      "source": [
        "small_board_8x8array = small_board_ndarray.reshape((8,8))\n",
        "print('8x8array: {}'.format(small_board_8x8array))\n",
        "print(small_board_8x8array.shape)"
      ]
    },
    {
      "cell_type": "markdown",
      "metadata": {
        "id": "RfTNUxtNLTQT"
      },
      "source": [
        "[Question 3] Total number of wheat Find the total number of wheat on an 8x8 chess board. Also find the average of each column and visualize it in a bar chart."
      ]
    },
    {
      "cell_type": "code",
      "execution_count": null,
      "metadata": {
        "colab": {
          "base_uri": "https://localhost:8080/"
        },
        "id": "yNaXFq6geaC3",
        "outputId": "f227a278-279e-4d96-e3a0-f61e2d20cd0f"
      },
      "outputs": [
        {
          "data": {
            "text/plain": [
              "array([9.04252160e+15, 1.80850432e+16, 3.61700864e+16, 7.23401728e+16,\n",
              "       1.44680346e+17, 2.89360691e+17, 5.78721383e+17, 1.15744277e+18])"
            ]
          },
          "execution_count": 7,
          "metadata": {},
          "output_type": "execute_result"
        }
      ],
      "source": [
        "avarage_value = small_board_8x8array.mean(axis=0)\n",
        "avarage_value"
      ]
    },
    {
      "cell_type": "code",
      "execution_count": null,
      "metadata": {
        "colab": {
          "base_uri": "https://localhost:8080/",
          "height": 295
        },
        "id": "uy8tbsTRLtKF",
        "outputId": "b6759c5d-a356-4caa-b2c4-69bd37e6dd24"
      },
      "outputs": [
        {
          "data": {
            "image/png": "[encoded data removed]",
            "text/plain": [
              "<Figure size 432x288 with 1 Axes>"
            ]
          },
          "metadata": {
            "needs_background": "light"
          },
          "output_type": "display_data"
        }
      ],
      "source": [
        "import matplotlib.pyplot as plt\n",
        "%matplotlib inline\n",
        "plt.xlabel(\"column\")\n",
        "plt.ylabel(\"number\")\n",
        "plt.title(\"number in each column\")\n",
        "plt.bar(np.arange(1,9), avarage_value)\n",
        "plt.show()"
      ]
    },
    {
      "cell_type": "markdown",
      "metadata": {
        "id": "rsYaWewlLtjf"
      },
      "source": [
        "[Question 4] Heat map of the number of wheat Visualize the number of wheat on an 8x8 square chessboard as a heatmap."
      ]
    },
    {
      "cell_type": "code",
      "execution_count": null,
      "metadata": {
        "colab": {
          "base_uri": "https://localhost:8080/",
          "height": 295
        },
        "id": "uNicUZQVLyeo",
        "outputId": "ba53c5b4-ebdb-47b3-8dcc-6674776f1e74"
      },
      "outputs": [
        {
          "data": {
            "image/png": "[encoded data removed]",
            "text/plain": [
              "<Figure size 432x288 with 1 Axes>"
            ]
          },
          "metadata": {
            "needs_background": "light"
          },
          "output_type": "display_data"
        }
      ],
      "source": [
        "import matplotlib.pyplot as plt\n",
        "plt.xlabel(\"column\")\n",
        "plt.ylabel(\"row\")\n",
        "plt.title(\"heatmap\")\n",
        "plt.pcolor(np.array(small_board_list).reshape(8, 8))\n",
        "plt.show()"
      ]
    },
    {
      "cell_type": "markdown",
      "metadata": {
        "id": "bWbsNEmvLzOy"
      },
      "source": [
        "[Question 5] How many times the second half is the first half? Find the number of wheat in the second half of the chessboard multiplied by the number of wheat in the first half. The first half is rows 0 to 3 of the array, the second half is rows 4 to 7."
      ]
    },
    {
      "cell_type": "code",
      "execution_count": null,
      "metadata": {
        "colab": {
          "base_uri": "https://localhost:8080/"
        },
        "id": "wodTLSRCL42C",
        "outputId": "e63447ac-500a-4ce0-e71a-f6da7567f41b"
      },
      "outputs": [
        {
          "name": "stdout",
          "output_type": "stream",
          "text": [
            "2.9436190960510655e+35\n"
          ]
        }
      ],
      "source": [
        "import numpy as np\n",
        "a = np.array([9.04252160e+15, 1.80850432e+16, 3.61700864e+16, 7.23401728e+16])\n",
        "b = np.array([1.44680346e+17, 2.89360691e+17, 5.78721383e+17, 1.15744277e+18])\n",
        "c=a.sum()\n",
        "d=b.sum()\n",
        "print(c*d)"
      ]
    },
    {
      "cell_type": "markdown",
      "metadata": {
        "id": "D2iPGqHsL5SI"
      },
      "source": [
        "[Problem 6] Extension to n × m squares by other calculation methods Create a new ``function that returns an ndarray that describes the number of wheat on an n x m square chessboard'' similar to Problem 2, np.append()one that uses and one that uses broadcasting."
      ]
    },
    {
      "cell_type": "code",
      "execution_count": null,
      "metadata": {
        "colab": {
          "base_uri": "https://localhost:8080/"
        },
        "id": "UHIDA9wNMAS8",
        "outputId": "0302d34d-a335-429a-f601-a3f4454cd10c"
      },
      "outputs": [
        {
          "name": "stdout",
          "output_type": "stream",
          "text": [
            "[                   1                    2                    4\n",
            "                    8                   16                   32\n",
            "                   64                  128                  256\n",
            "                  512                 1024                 2048\n",
            "                 4096                 8192                16384\n",
            "                32768                65536               131072\n",
            "               262144               524288              1048576\n",
            "              2097152              4194304              8388608\n",
            "             16777216             33554432             67108864\n",
            "            134217728            268435456            536870912\n",
            "           1073741824           2147483648           4294967296\n",
            "           8589934592          17179869184          34359738368\n",
            "          68719476736         137438953472         274877906944\n",
            "         549755813888        1099511627776        2199023255552\n",
            "        4398046511104        8796093022208       17592186044416\n",
            "       35184372088832       70368744177664      140737488355328\n",
            "      281474976710656      562949953421312     1125899906842624\n",
            "     2251799813685248     4503599627370496     9007199254740992\n",
            "    18014398509481984    36028797018963968    72057594037927936\n",
            "   144115188075855872   288230376151711744   576460752303423488\n",
            "  1152921504606846976  2305843009213693952  4611686018427387904\n",
            " -9223372036854775808]\n"
          ]
        },
        {
          "name": "stderr",
          "output_type": "stream",
          "text": [
            "/usr/local/lib/python3.7/dist-packages/ipykernel_launcher.py:5: RuntimeWarning: overflow encountered in long_scalars\n",
            "  \"\"\"\n"
          ]
        }
      ],
      "source": [
        "def n_square_function(n,m):\n",
        "  n_squares = n*m\n",
        "  board_ndarray = np.array([1])\n",
        "  for _ in range(n_squares - 1):\n",
        "    board_ndarray = np.append(board_ndarray, 2*board_ndarray[-1])\n",
        "  return board_ndarray\n",
        "print(n_square_function(8,8))"
      ]
    },
    {
      "cell_type": "code",
      "execution_count": null,
      "metadata": {
        "colab": {
          "base_uri": "https://localhost:8080/"
        },
        "id": "50EJ6N9gIhgR",
        "outputId": "672c196b-90a3-4e8d-9bbf-889a6527c183"
      },
      "outputs": [
        {
          "name": "stdout",
          "output_type": "stream",
          "text": [
            "[                   1                    2                    4\n",
            "                    8                   16                   32\n",
            "                   64                  128                  256\n",
            "                  512                 1024                 2048\n",
            "                 4096                 8192                16384\n",
            "                32768                65536               131072\n",
            "               262144               524288              1048576\n",
            "              2097152              4194304              8388608\n",
            "             16777216             33554432             67108864\n",
            "            134217728            268435456            536870912\n",
            "           1073741824           2147483648           4294967296\n",
            "           8589934592          17179869184          34359738368\n",
            "          68719476736         137438953472         274877906944\n",
            "         549755813888        1099511627776        2199023255552\n",
            "        4398046511104        8796093022208       17592186044416\n",
            "       35184372088832       70368744177664      140737488355328\n",
            "      281474976710656      562949953421312     1125899906842624\n",
            "     2251799813685248     4503599627370496     9007199254740992\n",
            "    18014398509481984    36028797018963968    72057594037927936\n",
            "   144115188075855872   288230376151711744   576460752303423488\n",
            "  1152921504606846976  2305843009213693952  4611686018427387904\n",
            " -9223372036854775808]\n"
          ]
        }
      ],
      "source": [
        "def n_square_function(n,m):\n",
        "  n_squares = n*m\n",
        "  indices_of_squares = np.arange(n_squares)\n",
        "  board_ndarray = 2**indices_of_squares\n",
        "  return board_ndarray\n",
        "print(n_square_function(8,8))"
      ]
    },
    {
      "cell_type": "markdown",
      "metadata": {
        "id": "oWNYXABpMAoA"
      },
      "source": [
        "[Question 7] Comparison of calculation time I've seen 3 different methods. Please measure each calculation time using Jupyter Notebook %%timeitand compare and discuss."
      ]
    },
    {
      "cell_type": "markdown",
      "metadata": {
        "id": "Zl28t0uYJYYF"
      },
      "source": [
        "##1. First method time is-448 µs ± 43.3 µs per loop (mean ± std. dev. of 7 runs, 1000 loops each)\n",
        "%%timeit\n",
        "def n_square_function(n,m):\n",
        "  n_squares = n*m\n",
        "  small_board_list = [1]\n",
        "  for _ in range(n_squares - 1):\n",
        "    small_board_list.append(2*small_board_list[-1])\n",
        "  return small_board_list \n",
        "print(n_square_function(8,8))\n",
        "##2. Second method time is-1.99 ms ± 310 µs per loop (mean ± std. dev. of 7 runs, 100 loops each)\n",
        "%%timeit\n",
        "def n_square_function(n,m):\n",
        "  n_squares = n*m\n",
        "  board_ndarray = np.array([1])\n",
        "  for _ in range(n_squares - 1):\n",
        "    board_ndarray = np.append(board_ndarray, 2*board_ndarray[-1])\n",
        "  return board_ndarray\n",
        "print(n_square_function(8,8))\n",
        "##3. Third method time is-872 µs ± 50.5 µs per loop (mean ± std. dev. of 7 runs, 1000 loops each)\n",
        "%%timeit\n",
        "def n_square_function(n,m):\n",
        "  n_squares = n*m\n",
        "  indices_of_squares = np.arange(n_squares)\n",
        "  board_ndarray = 2**indices_of_squares\n",
        "  return board_ndarray\n",
        "print(n_square_function(8,8))\n",
        "\n"
      ]
    }
  ],
  "metadata": {
    "colab": {
      "authorship_tag": "ABX9TyN1NFu6jmnOkQK0LMTVVc5w",
      "include_colab_link": true,
      "provenance": []
    },
    "kernelspec": {
      "display_name": "Python 3",
      "name": "python3"
    },
    "language_info": {
      "codemirror_mode": {
        "name": "ipython",
        "version": 3
      },
      "file_extension": ".py",
      "mimetype": "text/x-python",
      "name": "python",
      "nbconvert_exporter": "python",
      "pygments_lexer": "ipython3",
      "version": "3.10.11"
    }
  },
  "nbformat": 4,
  "nbformat_minor": 0
}
