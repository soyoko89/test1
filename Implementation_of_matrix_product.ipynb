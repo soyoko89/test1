{
  "cells": [
    {
      "cell_type": "markdown",
      "metadata": {
        "id": "iTilHCKAdprJ"
      },
      "source": [
        "[Problem 1] Matrix product is calculated manually"
      ]
    },
    {
      "cell_type": "markdown",
      "metadata": {},
      "source": [
        "[Problem 1] Matrix product is calculated manually Solve the matrix product of A and B by hand."
      ]
    },
    {
      "cell_type": "code",
      "execution_count": 3,
      "metadata": {},
      "outputs": [],
      "source": [
        "import numpy as np\n",
        "a_ndarray = np.array([[-1, 2, 3], [4, -5, 6], [7, 8, -9]])\n",
        "b_ndarray = np.array([[0, 2, 1], [0, 2, -8], [2, 9, -1]])"
      ]
    },
    {
      "cell_type": "code",
      "execution_count": 8,
      "metadata": {},
      "outputs": [
        {
          "data": {
            "text/plain": [
              "array([[-1,  2,  3],\n",
              "       [ 4, -5,  6],\n",
              "       [ 7,  8, -9]])"
            ]
          },
          "execution_count": 8,
          "metadata": {},
          "output_type": "execute_result"
        }
      ],
      "source": [
        "a_ndarray"
      ]
    },
    {
      "cell_type": "code",
      "execution_count": 9,
      "metadata": {},
      "outputs": [
        {
          "data": {
            "text/plain": [
              "array([[ 0,  2,  1],\n",
              "       [ 0,  2, -8],\n",
              "       [ 2,  9, -1]])"
            ]
          },
          "execution_count": 9,
          "metadata": {},
          "output_type": "execute_result"
        }
      ],
      "source": [
        "b_ndarray"
      ]
    },
    {
      "cell_type": "code",
      "execution_count": 10,
      "metadata": {},
      "outputs": [],
      "source": [
        "ab_mult = np.zeros((a_ndarray.shape[0], b_ndarray.shape[1]))"
      ]
    },
    {
      "cell_type": "code",
      "execution_count": 11,
      "metadata": {},
      "outputs": [
        {
          "data": {
            "text/plain": [
              "array([[  6.,  29., -20.],\n",
              "       [ 12.,  52.,  38.],\n",
              "       [-18., -51., -48.]])"
            ]
          },
          "execution_count": 11,
          "metadata": {},
          "output_type": "execute_result"
        }
      ],
      "source": [
        "for i in range(a_ndarray.shape[0]):\n",
        "    for j in range(b_ndarray.shape[1]):\n",
        "        ab_mult[i, j] = np.sum(a_ndarray[i, :]*b_ndarray[:, j])\n",
        "\n",
        "ab_mult"
      ]
    },
    {
      "cell_type": "code",
      "execution_count": null,
      "metadata": {},
      "outputs": [],
      "source": [
        "# The above code shows matrix multiplication.\n",
        "\n",
        "#Given two matrices A and B, the number of columns in matrix A must be equal to the number of rows in matrix B in order for the multiplication to be defined.\n",
        "#To find the element C i,j in the resulting matrix C at the i-th row and j-th column, you multiply each element in the i-th row of matrix A by the corresponding element in the j-th column of matrix B, and then sum the products.\n",
        "#Mathematically, the element cij is calculated as:\n",
        "# C [i,j] = a[i1]*b[j1] + a[i2]*b[j2] + ... + a[in]*b[jn]"
      ]
    },
    {
      "cell_type": "markdown",
      "metadata": {
        "id": "gR9xH7emdwAe"
      },
      "source": [
        "[Problem 2] Calculation by NumPy function This matrix product of NumPy can be easily calculated using np.matmul() or np.dot() , or the @ operator."
      ]
    },
    {
      "cell_type": "code",
      "execution_count": 1,
      "metadata": {
        "colab": {
          "base_uri": "https://localhost:8080/"
        },
        "id": "zNmpr5FKd03H",
        "outputId": "785e5193-1deb-40e4-95c9-c55fb5bea20f"
      },
      "outputs": [
        {
          "name": "stdout",
          "output_type": "stream",
          "text": [
            "[[  6  29 -20]\n",
            " [ 12  52  38]\n",
            " [-18 -51 -48]]\n"
          ]
        }
      ],
      "source": [
        "import numpy as np\n",
        "b_ndarray = np.array([[0, 2, 1], [0, 2, -8], [2, 9, -1]])\n",
        "a_ndarray = np.array([[-1, 2, 3], [4, -5, 6], [7, 8, -9]])\n",
        "c_ndarray = np.dot(a_ndarray, b_ndarray)\n",
        "print(c_ndarray)"
      ]
    },
    {
      "cell_type": "code",
      "execution_count": 2,
      "metadata": {
        "colab": {
          "base_uri": "https://localhost:8080/"
        },
        "id": "A41CA4U-xcq_",
        "outputId": "aa527a01-b45d-429a-a6d7-3b25d5c6e75c"
      },
      "outputs": [
        {
          "name": "stdout",
          "output_type": "stream",
          "text": [
            "[[  6  29 -20]\n",
            " [ 12  52  38]\n",
            " [-18 -51 -48]]\n"
          ]
        }
      ],
      "source": [
        "import numpy as np\n",
        "a_ndarray = np.array([[-1, 2, 3], [4, -5, 6], [7, 8, -9]])\n",
        "b_ndarray = np.array([[0, 2, 1], [0, 2, -8], [2, 9, -1]])\n",
        "c_ndarray = np.matmul(a_ndarray, b_ndarray)\n",
        "print(c_ndarray)"
      ]
    },
    {
      "cell_type": "code",
      "execution_count": 3,
      "metadata": {
        "colab": {
          "base_uri": "https://localhost:8080/"
        },
        "id": "_4BQ-JsGx8-F",
        "outputId": "eced96a1-1151-4aeb-edea-ca15d8b6eabc"
      },
      "outputs": [
        {
          "name": "stdout",
          "output_type": "stream",
          "text": [
            "[[  6  29 -20]\n",
            " [ 12  52  38]\n",
            " [-18 -51 -48]]\n"
          ]
        }
      ],
      "source": [
        "import numpy as np\n",
        "a_ndarray = np.array([[-1, 2, 3], [4, -5, 6], [7, 8, -9]])\n",
        "b_ndarray = np.array([[0, 2, 1], [0, 2, -8], [2, 9, -1]])\n",
        "c_ndarray = a_ndarray@b_ndarray\n",
        "print(c_ndarray)"
      ]
    },
    {
      "cell_type": "markdown",
      "metadata": {
        "id": "We9yiNSnd1L8"
      },
      "source": [
        "[Problem 3] Implementation of calculation of a certain element When doing the calculations by hand, you may have first paid attention to row 0 of matrix A and column 0 of matrix B, and then performed the following calculations."
      ]
    },
    {
      "cell_type": "code",
      "execution_count": 12,
      "metadata": {
        "colab": {
          "base_uri": "https://localhost:8080/"
        },
        "id": "zMDdk2Fvd5zn",
        "outputId": "2c689337-f80c-49a0-8df8-cd18c98dd577"
      },
      "outputs": [
        {
          "data": {
            "text/plain": [
              "array([[  6.,  29., -20.],\n",
              "       [ 12.,  52.,  38.],\n",
              "       [-18., -51., -48.]])"
            ]
          },
          "execution_count": 12,
          "metadata": {},
          "output_type": "execute_result"
        }
      ],
      "source": [
        "a = a_ndarray\n",
        "b = b_ndarray\n",
        "ab_mult = np.zeros((a.shape[0], b.shape[1]))\n",
        "\n",
        "for i in range(a.shape[0]):\n",
        "    for j in range(b.shape[1]):\n",
        "        for k in range(b.shape[0]):\n",
        "            ab_mult[i][j] += a[i][k] * b[k][j]\n",
        "\n",
        "ab_mult\n"
      ]
    },
    {
      "cell_type": "markdown",
      "metadata": {
        "id": "uI2AVhqRd6R7"
      },
      "source": [
        "[Problem 4] Creating a function that performs matrix multiplication Extend the code in Problem 3 to complete the matrix product scratch implementation. It should be a function that takes matrices A and B as arguments and returns the matrix product."
      ]
    },
    {
      "cell_type": "code",
      "execution_count": 13,
      "metadata": {
        "colab": {
          "base_uri": "https://localhost:8080/"
        },
        "id": "XHql9J04d-c8",
        "outputId": "137cd7b0-aca5-4f3a-8ed7-fab17eccf78e"
      },
      "outputs": [],
      "source": [
        "def matrix_multiplication(a, b):\n",
        "\n",
        "    ## TODO comment\n",
        "\n",
        "    assert a.shape[0]==b.shape[1], \"Matrix dim is not suitable\"  #ERROR MSG\n",
        "    \n",
        "    ab_mult = np.zeros((a.shape[0], b.shape[1]))\n",
        "    \n",
        "    for i in range(a.shape[0]):\n",
        "        for j in range(b.shape[1]):\n",
        "            for k in range(b.shape[0]):\n",
        "                ab_mult[i][j] += a[i][k] * b[k][j]\n",
        "\n",
        "    return ab_mult\n",
        "        "
      ]
    },
    {
      "cell_type": "code",
      "execution_count": 14,
      "metadata": {},
      "outputs": [
        {
          "data": {
            "text/plain": [
              "array([[  6.,  29., -20.],\n",
              "       [ 12.,  52.,  38.],\n",
              "       [-18., -51., -48.]])"
            ]
          },
          "execution_count": 14,
          "metadata": {},
          "output_type": "execute_result"
        }
      ],
      "source": [
        "matrix_multiplication(a_ndarray, b_ndarray)"
      ]
    },
    {
      "cell_type": "markdown",
      "metadata": {
        "id": "6nNJtWzBd_CL"
      },
      "source": [
        "[Problem 5] Judge the input whose calculation is not defined Depending on the implementation method, the function created in Problem 4 may work even if this D and E array is input. In this case, incorrect calculations will be made. Also, even if an error occurs in the middle, a message that is hard to understand why the error occurred is displayed directly."
      ]
    },
    {
      "cell_type": "code",
      "execution_count": 5,
      "metadata": {},
      "outputs": [],
      "source": [
        "d_ndarray = np.array([[-1, 2, 3], [4, -5, 6]])\n",
        "e_ndarray = np.array([[-9, 8, 7], [6, -5, 4]])"
      ]
    },
    {
      "cell_type": "code",
      "execution_count": 6,
      "metadata": {},
      "outputs": [
        {
          "ename": "NameError",
          "evalue": "name 'matrix_multiplication' is not defined",
          "output_type": "error",
          "traceback": [
            "\u001b[1;31m---------------------------------------------------------------------------\u001b[0m",
            "\u001b[1;31mNameError\u001b[0m                                 Traceback (most recent call last)",
            "Cell \u001b[1;32mIn[6], line 1\u001b[0m\n\u001b[1;32m----> 1\u001b[0m \u001b[43mmatrix_multiplication\u001b[49m(d_ndarray, e_ndarray)\n",
            "\u001b[1;31mNameError\u001b[0m: name 'matrix_multiplication' is not defined"
          ]
        }
      ],
      "source": [
        "matrix_multiplication(d_ndarray, e_ndarray)"
      ]
    },
    {
      "cell_type": "code",
      "execution_count": 8,
      "metadata": {},
      "outputs": [
        {
          "name": "stdout",
          "output_type": "stream",
          "text": [
            "Error messege:  name 'matrix_multiplication' is not defined\n"
          ]
        }
      ],
      "source": [
        "try:\n",
        "    matrix_multiplication(d_ndarray, e_ndarray)\n",
        "except Exception as e:\n",
        "    print(\"Error messege: \", e)"
      ]
    },
    {
      "cell_type": "code",
      "execution_count": 1,
      "metadata": {
        "colab": {
          "base_uri": "https://localhost:8080/"
        },
        "id": "CrTFaIF8eE3_",
        "outputId": "b2f19094-812f-4926-9219-f544063370fb"
      },
      "outputs": [
        {
          "name": "stdout",
          "output_type": "stream",
          "text": [
            "[21, 57]\n"
          ]
        }
      ],
      "source": [
        "def matrix(a,b):\n",
        "  total=0\n",
        "  total_1=0\n",
        "  for i in range(0,len(a)):\n",
        "    total=total + a[0][i]*b[i][0]\n",
        "    total_1=total_1 + a[1][i]*b[i][1]\n",
        "  return total, total_1,\n",
        "  if a.shape[0]==b.shape[1]:\n",
        "    return total, total_1, total_2\n",
        "  else:\n",
        "    print(\"Warning\")\n",
        "    return none\n",
        "print(list(matrix([[-1, 2, 3], [4, -5, 6]],[[-9, 8, 7], [6, -5, 4]])))\n",
        "\n"
      ]
    },
    {
      "cell_type": "markdown",
      "metadata": {
        "id": "pLD9wn0heFZy"
      },
      "source": [
        "[Problem 6] Transposition Transposing one matrix allows you to calculate the matrix product."
      ]
    },
    {
      "cell_type": "code",
      "execution_count": 15,
      "metadata": {
        "colab": {
          "base_uri": "https://localhost:8080/"
        },
        "id": "pFh3n3sheJ3J",
        "outputId": "9a870ea7-d625-486e-ef94-7c48f249ec22"
      },
      "outputs": [
        {
          "name": "stdout",
          "output_type": "stream",
          "text": [
            "A, B matrix:\n",
            "[[-1  2  3]\n",
            " [ 4 -5  6]\n",
            " [ 7  8 -9]]\n",
            "[[ 0  2  1]\n",
            " [ 0  2 -8]\n",
            " [ 2  9 -1]]\n",
            "Transposing matrix:\n",
            "[[  6  12 -18]\n",
            " [ 29  52 -51]\n",
            " [-20  38 -48]]\n"
          ]
        }
      ],
      "source": [
        "import numpy as np\n",
        "a_ndarray = np.array([[-1, 2, 3], [4, -5, 6], [7, 8, -9]])\n",
        "b_ndarray = np.array([[0, 2, 1], [0, 2, -8], [2, 9, -1]])\n",
        "print(\"A, B matrix:\")\n",
        "print(a_ndarray)\n",
        "print(b_ndarray)\n",
        "c_ndarray = np.dot(a_ndarray, b_ndarray).T\n",
        "\n",
        "print(\"Transposing matrix:\")\n",
        "print(c_ndarray)"
      ]
    }
  ],
  "metadata": {
    "colab": {
      "include_colab_link": true,
      "provenance": []
    },
    "kernelspec": {
      "display_name": "Python 3",
      "name": "python3"
    },
    "language_info": {
      "codemirror_mode": {
        "name": "ipython",
        "version": 3
      },
      "file_extension": ".py",
      "mimetype": "text/x-python",
      "name": "python",
      "nbconvert_exporter": "python",
      "pygments_lexer": "ipython3",
      "version": "3.11.4"
    }
  },
  "nbformat": 4,
  "nbformat_minor": 0
}
