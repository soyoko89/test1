{
  "cells": [
    {
      "cell_type": "markdown",
      "metadata": {
        "id": "Z5W0wl1Npc-t"
      },
      "source": [
        "[Problem] The day when chestnut buns cover the solar system If you sprinkle a single chestnut bun with vine, how long will it take to cover the solar system with chestnut buns? Create a program to calculate this."
      ]
    },
    {
      "cell_type": "markdown",
      "metadata": {
        "id": "G5c83aE_wP71"
      },
      "source": [
        "The diameter of the Solar System is 100000 times the distance from the Sun to the Earth. So sun to earth size is 148.67 million km. So Solar system diameter is 148670000000m**100000 "
      ]
    },
    {
      "cell_type": "markdown",
      "metadata": {
        "id": "RHorEdaz0mtB"
      },
      "source": [
        "One chesnut bun size is 8cm (0.08m)\n",
        "\n",
        "\n"
      ]
    },
    {
      "cell_type": "code",
      "execution_count": 1,
      "metadata": {
        "colab": {
          "base_uri": "https://localhost:8080/",
          "height": 302
        },
        "id": "BaK2cJ3UpiXV",
        "outputId": "47b9191f-8b2f-41fa-8628-5ab1190c36c9"
      },
      "outputs": [
        {
          "name": "stdout",
          "output_type": "stream",
          "text": [
            "([5], [1])\n"
          ]
        },
        {
          "data": {
            "image/png": "[encoded data removed]",
            "text/plain": [
              "<Figure size 640x480 with 1 Axes>"
            ]
          },
          "metadata": {},
          "output_type": "display_data"
        }
      ],
      "source": [
        "import matplotlib.pyplot as plt\n",
        "list_time = []\n",
        "list_number = []\n",
        "def chesnut_bun(x,y):\n",
        "  time = 0\n",
        "  number = 0\n",
        "  while y<x:\n",
        "      number +=1\n",
        "      y *=2\n",
        "      time +=5\n",
        "      list_time.append(time)\n",
        "      list_number.append(number)\n",
        "      return list_time, list_number\n",
        "print(chesnut_bun(148670000000**100000, 0.008))\n",
        "\n",
        "fig, ax=plt.subplots()\n",
        "ax.plot(list_time, list_number)\n",
        "plt.show()"
      ]
    }
  ],
  "metadata": {
    "colab": {
      "authorship_tag": "ABX9TyOfwh5HdCJJFz6wRpuMESfq",
      "include_colab_link": true,
      "provenance": []
    },
    "kernelspec": {
      "display_name": "Python 3",
      "name": "python3"
    },
    "language_info": {
      "codemirror_mode": {
        "name": "ipython",
        "version": 3
      },
      "file_extension": ".py",
      "mimetype": "text/x-python",
      "name": "python",
      "nbconvert_exporter": "python",
      "pygments_lexer": "ipython3",
      "version": "3.10.11"
    }
  },
  "nbformat": 4,
  "nbformat_minor": 0
}
