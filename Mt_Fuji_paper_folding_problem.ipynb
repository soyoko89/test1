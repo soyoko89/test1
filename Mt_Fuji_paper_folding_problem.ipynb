{
  "cells": [
    {
      "cell_type": "markdown",
      "metadata": {
        "id": "sFx66THQ7JHJ"
      },
      "source": [
        "[Problem 1] How many times to fold paper to exceed the height of Mt.Fuji? Create a program that calculates the minimum number of times to fold the paper required for the thickness to exceed the \"height of Mt. Fuji (3776m)\"."
      ]
    },
    {
      "cell_type": "code",
      "execution_count": 1,
      "metadata": {
        "colab": {
          "base_uri": "https://localhost:8080/"
        },
        "id": "w3wBaSmGTQ8V",
        "outputId": "98def47e-36dc-4035-d11f-1d31922497dd"
      },
      "outputs": [
        {
          "name": "stdout",
          "output_type": "stream",
          "text": [
            "[0, 1, 2, 3, 4, 5, 6, 7, 8, 9, 10, 11, 12, 13, 14, 15, 16, 17, 18, 19, 20, 21, 22, 23, 24, 25]\n"
          ]
        }
      ],
      "source": [
        "thickness = 0.00008\n",
        "number = 0\n",
        "list = []\n",
        "while thickness<3776:\n",
        "  list.append(number)\n",
        "  number +=1\n",
        "  thickness *= 2\n",
        "print (list)"
      ]
    },
    {
      "cell_type": "code",
      "execution_count": 2,
      "metadata": {
        "colab": {
          "base_uri": "https://localhost:8080/"
        },
        "id": "QvrHuwbqXV83",
        "outputId": "493c5acc-03a8-4484-eadf-8f04f701f633"
      },
      "outputs": [
        {
          "name": "stdout",
          "output_type": "stream",
          "text": [
            "17\n"
          ]
        }
      ],
      "source": [
        "thickness = 0.00008\n",
        "number = 0\n",
        "while thickness<3776:\n",
        "  number +=1\n",
        "  thickness *= 2\n",
        "print (number)"
      ]
    },
    {
      "cell_type": "markdown",
      "metadata": {
        "id": "6yUi3hf3xNxg"
      },
      "source": [
        "[Problem 2] Function corresponding to arbitrary thickness Implement a function that, given a height input, would output the minimum number of paper folds required to exceed it. Let's make it possible to set the thickness $t_{0}$ before folding as an argument."
      ]
    },
    {
      "cell_type": "code",
      "execution_count": 8,
      "metadata": {
        "colab": {
          "base_uri": "https://localhost:8080/"
        },
        "id": "BLfVrfsfb5dQ",
        "outputId": "5477664a-915b-4bdb-cf27-bca0d354445d"
      },
      "outputs": [
        {
          "name": "stdout",
          "output_type": "stream",
          "text": [
            "66\n"
          ]
        }
      ],
      "source": [
        "def fold_function(x,y):\n",
        "  heigh_input = int # x value\n",
        "  any_thickness = int   # y value\n",
        "  number = 0\n",
        "  while y<x:\n",
        "    number +=1\n",
        "    y *=2\n",
        "  return number \n",
        "print(fold_function(4017500000000000, 0.00008))"
      ]
    },
    {
      "cell_type": "markdown",
      "metadata": {
        "id": "aGGW1bRExX1C"
      },
      "source": [
        "[Problem 3] Required paper length In fact, the paper around us cannot be folded 10 times, let alone 43 times. However, the larger the paper, the more it can be folded. There is a formula for finding the number of times a long piece of paper, such as toilet paper, can be folded when considering folding it in one direction."
      ]
    },
    {
      "cell_type": "code",
      "execution_count": 3,
      "metadata": {
        "colab": {
          "base_uri": "https://localhost:8080/"
        },
        "id": "Luwj9FsLxcxb",
        "outputId": "2bb141e7-6dc8-445b-d4d9-9f2892b8b6a4"
      },
      "outputs": [
        {
          "name": "stdout",
          "output_type": "stream",
          "text": [
            "0.0291539798253152\n"
          ]
        }
      ],
      "source": [
        "def fold_function(x,y):\n",
        "  thickness = x\n",
        "  exponent = y \n",
        "  L=3.14159265359*x/6*((y**2+4)*(y**2-1))\n",
        "  return L\n",
        "print(fold_function(0.00008,5))\n"
      ]
    },
    {
      "cell_type": "code",
      "execution_count": 4,
      "metadata": {
        "colab": {
          "base_uri": "https://localhost:8080/"
        },
        "id": "n7bXr_nXjU6E",
        "outputId": "c659dfec-f146-4f0a-f14d-6b58203baac5"
      },
      "outputs": [
        {
          "name": "stdout",
          "output_type": "stream",
          "text": [
            "795.3591065044827\n"
          ]
        }
      ],
      "source": [
        "def fold_function(x,y):\n",
        "  thickness = x\n",
        "  exponent = y \n",
        "  L=3.14159265359*x/6*((y**2+4)*(y**2-1))\n",
        "  return L\n",
        "print(fold_function(0.00008,66)) "
      ]
    },
    {
      "cell_type": "code",
      "execution_count": 5,
      "metadata": {
        "colab": {
          "base_uri": "https://localhost:8080/"
        },
        "id": "3HyrljmIjswY",
        "outputId": "c6025356-0c64-4fcc-bd61-a9090a258577"
      },
      "outputs": [
        {
          "name": "stdout",
          "output_type": "stream",
          "text": [
            "16.440834002179475\n"
          ]
        }
      ],
      "source": [
        "def fold_function(x,y):\n",
        "  thickness = x\n",
        "  exponent = y \n",
        "  L=3.14159265359*x/6*((y**2+4)*(y**2-1))\n",
        "  return L\n",
        "print(fold_function(0.00008,25)) #height of Mt. Fuji "
      ]
    },
    {
      "cell_type": "code",
      "execution_count": 6,
      "metadata": {
        "colab": {
          "base_uri": "https://localhost:8080/"
        },
        "id": "UtUIzU_Hj-2C",
        "outputId": "7c00c2ee-ab02-4314-dd6b-5de7545c00f8"
      },
      "outputs": [
        {
          "name": "stdout",
          "output_type": "stream",
          "text": [
            "143.43858605019994\n"
          ]
        }
      ],
      "source": [
        "def fold_function(x,y):\n",
        "  thickness = x\n",
        "  exponent = y \n",
        "  L=3.14159265359*x/6*((y**2+4)*(y**2-1))\n",
        "  return L\n",
        "print(fold_function(0.00008,43)) #Moon"
      ]
    }
  ],
  "metadata": {
    "colab": {
      "authorship_tag": "ABX9TyPxQLHh8mhYp4hHsSXuCU48",
      "include_colab_link": true,
      "provenance": []
    },
    "kernelspec": {
      "display_name": "Python 3",
      "name": "python3"
    },
    "language_info": {
      "codemirror_mode": {
        "name": "ipython",
        "version": 3
      },
      "file_extension": ".py",
      "mimetype": "text/x-python",
      "name": "python",
      "nbconvert_exporter": "python",
      "pygments_lexer": "ipython3",
      "version": "3.10.11"
    }
  },
  "nbformat": 4,
  "nbformat_minor": 0
}
