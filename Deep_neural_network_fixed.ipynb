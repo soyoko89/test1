{
 "cells": [
  {
   "cell_type": "code",
   "execution_count": 1,
   "id": "a9caaa9d-9b9b-411a-9ac3-89669a8b00cb",
   "metadata": {},
   "outputs": [],
   "source": [
    "import numpy as np"
   ]
  },
  {
   "cell_type": "code",
   "execution_count": 5,
   "id": "f78b714e-c53e-45fe-8aee-11723bcfd259",
   "metadata": {},
   "outputs": [],
   "source": [
    "class GetMiniBatch:\n",
    "    \"\"\"\n",
    "    Parameters\n",
    "    ----------\n",
    "    X : 次の形のndarray, shape (n_samples, n_features)\n",
    "      訓練データ\n",
    "    y : 次の形のndarray, shape (n_samples, 1)\n",
    "      正解値\n",
    "    batch_size : int\n",
    "      バッチサイズ\n",
    "    seed : int\n",
    "      NumPyの乱数のシード\n",
    "    \"\"\"\n",
    "    def __init__(self, X, y, batch_size = 20, seed=0):\n",
    "        self.batch_size = batch_size\n",
    "        np.random.seed(seed)\n",
    "        shuffle_index = np.random.permutation(np.arange(X.shape[0]))\n",
    "        self._X = X[shuffle_index]\n",
    "        self._y = y[shuffle_index]\n",
    "        self._stop = np.ceil(X.shape[0]/self.batch_size).astype(int)\n",
    "\n",
    "    def __len__(self):\n",
    "        return self._stop\n",
    "\n",
    "    def __getitem__(self,item):\n",
    "        p0 = item*self.batch_size\n",
    "        p1 = item*self.batch_size + self.batch_size\n",
    "        return self._X[p0:p1], self._y[p0:p1]\n",
    "\n",
    "    def __iter__(self):\n",
    "        self._counter = 0\n",
    "        return self\n",
    "\n",
    "    def __next__(self):\n",
    "        if self._counter >= self._stop:\n",
    "            raise StopIteration()\n",
    "        p0 = self._counter*self.batch_size\n",
    "        p1 = self._counter*self.batch_size + self.batch_size\n",
    "        self._counter += 1\n",
    "        return self._X[p0:p1], self._y[p0:p1]"
   ]
  },
  {
   "cell_type": "code",
   "execution_count": 22,
   "id": "6ad77c8a-fa4f-4806-b866-b08610121b2e",
   "metadata": {},
   "outputs": [],
   "source": [
    "class ScratchSimpleNeuralNetrowkClassifier():\n",
    "    def __init__(self,\n",
    "                 batch_size = 20, #number of data\n",
    "                 n_features = 784, #input size\n",
    "                 n_nodes1 = 400, # hidden size of first layer \n",
    "                 n_nodes2 = 200, # hidden size of second layer \n",
    "                 n_output = 10, # 0-9 total 10 numbers\n",
    "                 sigma = 0.02, # parameter initialize \n",
    "                 lr = 0.01, #learning rate \n",
    "                 epoch = 10, #iteration \n",
    "                 verbose=True):\n",
    "        \n",
    "        self.verbose = verbose\n",
    "        self.batch_size = batch_size\n",
    "        self.n_features = n_features\n",
    "        self.n_nodes1 = n_nodes1\n",
    "        self.n_nodes2 = n_nodes2 \n",
    "        self.n_output = n_output\n",
    "        self.sigma = sigma\n",
    "        self.lr = lr\n",
    "        self.epoch = epoch\n",
    "        self.loss_train = []\n",
    "        self.loss_val = []\n",
    "\n",
    "        #parameter initilize\n",
    "        self.W1 = self.sigma * np.random.randn(self.n_features, self.n_nodes1)\n",
    "        self.W2 = self.sigma * np.random.randn(self.n_nodes1, self.n_nodes2)\n",
    "        self.W3 = self.sigma * np.random.randn(self.n_nodes2, self.n_output)\n",
    "        self.B1 = self.sigma * np.random.randn(1, self.n_nodes1)\n",
    "        self.B2 = self.sigma * np.random.randn(1, self.n_nodes2)\n",
    "        self.B3 = self.sigma * np.random.randn(1, self.n_output)\n",
    "   \n",
    "    def fit(self, X, y, X_val=None, y_val=None):\n",
    "        \n",
    "        for e in range(self.epoch):\n",
    "            get_mini_batch = GetMiniBatch(X, y, batch_size=self.batch_size)\n",
    "            for mini_X_train, mini_y_train in get_mini_batch:\n",
    "                self.forward(mini_X_train)\n",
    "                self.backward(mini_X_train, mini_y_train)\n",
    "                \n",
    "            self.forward(X)\n",
    "            self.loss_train.append(self.cross_entropy_error(y, self.Z3))\n",
    "            \n",
    "            if X_val is not None:\n",
    "                self.forward(X_val)\n",
    "                self.loss_val.append(self.cross_entropy_error(y_val, self.Z3))\n",
    "                \n",
    "            if self.verbose:\n",
    "                if X_val is None:\n",
    "                    print(self.loss_train)\n",
    "                else:\n",
    "                    print(f\"Epoch {e}:\", \"Train loss:\", self.loss_train[-1], \"Val loss:\", self.loss_val[-1])\n",
    "    \n",
    "    def forward(self, X):\n",
    "        self.A1 = X @ self.W1 + self.B1\n",
    "        self.Z1 = self.tanh_function(self.A1)\n",
    "        self.A2 = self.Z1 @ self.W2 + self.B2\n",
    "        self.Z2 = self.tanh_function(self.A2)\n",
    "        self.A3 = self.Z2 @ self.W3 + self.B3\n",
    "        self.Z3 = self.softmax(self.A3)\n",
    "    \n",
    "    def backward(self, X, y):\n",
    "        dA3 = (self.Z3 - y)/self.batch_size\n",
    "        dW3 = self.Z2.T @ dA3\n",
    "        dB3 = np.sum(dA3, axis=0)\n",
    "        dZ2 = dA3 @ self.W3.T\n",
    "        dA2 = dZ2 * (1 - self.tanh_function(self.A2)**2)\n",
    "        dW2 = self.Z1.T @ dA2\n",
    "        dB2 = np.sum(dA2, axis=0)\n",
    "        dZ1 = dA2 @ self.W2.T\n",
    "        dA1 = dZ1 * (1 - self.tanh_function(self.A1)**2)\n",
    "        dW1 = X.T @ dA1\n",
    "        dB1 = np.sum(dA1, axis=0)\n",
    "        self.W3 -= self.lr * dW3\n",
    "        self.B3 -= self.lr * dB3\n",
    "        self.W2 -= self.lr * dW2\n",
    "        self.B2 -= self.lr * dB2\n",
    "        self.W1 -= self.lr * dW1\n",
    "        self.B1 -= self.lr * dB1\n",
    "            \n",
    "    def tanh_function(self, A):\n",
    "        return (np.exp(A)-np.exp(-A))/(np.exp(A)+np.exp(-A))\n",
    "    \n",
    "    def softmax(self, A):\n",
    "        return np.exp(A)/np.sum(np.exp(A), axis=0)\n",
    "\n",
    "    def cross_entropy_error(self, y, Z):\n",
    "        L = - np.sum(y * np.log(Z+1e-7)) / len(y)\n",
    "        return L\n",
    "        \n",
    "    def predict(self, X):\n",
    "        self.forward(X)\n",
    "        return np.argmax(self.Z3, axis=1)"
   ]
  },
  {
   "cell_type": "code",
   "execution_count": 23,
   "id": "3db167a4-c1bc-46ef-909d-916f0814fe5e",
   "metadata": {},
   "outputs": [
    {
     "name": "stdout",
     "output_type": "stream",
     "text": [
      "Requirement already satisfied: keras in c:\\users\\keun ho ryu\\appdata\\local\\programs\\python\\python310\\lib\\site-packages (2.15.0)\n"
     ]
    },
    {
     "name": "stderr",
     "output_type": "stream",
     "text": [
      "\n",
      "[notice] A new release of pip is available: 23.3.1 -> 24.0\n",
      "[notice] To update, run: python.exe -m pip install --upgrade pip\n"
     ]
    }
   ],
   "source": [
    "!pip install keras"
   ]
  },
  {
   "cell_type": "code",
   "execution_count": 24,
   "id": "661d3c34-fbc2-4711-91c9-5a1b8aab8261",
   "metadata": {},
   "outputs": [],
   "source": [
    "from sklearn.preprocessing import OneHotEncoder\n",
    "import keras"
   ]
  },
  {
   "cell_type": "code",
   "execution_count": 25,
   "id": "30d1024d-1443-491c-91ce-11919e010f10",
   "metadata": {},
   "outputs": [],
   "source": [
    "#### Running Sctratch ###\n",
    "(X_train, y_train), (X_test, y_test) = keras.datasets.mnist.load_data()\n",
    "X_train = X_train.reshape(-1, 784)\n",
    "X_test = X_test.reshape(-1, 784)\n",
    "\n",
    "X_train = X_train / 255.0\n",
    "X_test = X_test / 255.0\n",
    "\n",
    "X_train = X_train[:500, :] #because of computation\n",
    "X_test = X_test[:100, :]\n",
    "y_train = y_train[:500]\n",
    "y_test = y_test[:100]"
   ]
  },
  {
   "cell_type": "code",
   "execution_count": 26,
   "id": "5e3b24f7-ed03-47d6-8754-1fa0dab4bb68",
   "metadata": {},
   "outputs": [],
   "source": [
    "enc = OneHotEncoder(handle_unknown='ignore')\n",
    "y_train_one_hot = enc.fit_transform(y_train[:, np.newaxis])\n",
    "y_test_one_hot = enc.transform(y_test[:, np.newaxis])"
   ]
  },
  {
   "cell_type": "code",
   "execution_count": 27,
   "id": "5399e266-cf2d-4750-aad2-15d9fd2a80e0",
   "metadata": {},
   "outputs": [
    {
     "data": {
      "text/plain": [
       "array([7, 2, 1, 0, 4, 1, 4, 9, 5, 9, 0, 6, 9, 0, 1, 5, 9, 7, 3, 4, 9, 6,\n",
       "       6, 5, 4, 0, 7, 4, 0, 1, 3, 1, 3, 4, 7, 2, 7, 1, 2, 1, 1, 7, 4, 2,\n",
       "       3, 5, 1, 2, 4, 4, 6, 3, 5, 5, 6, 0, 4, 1, 9, 5, 7, 8, 9, 3, 7, 4,\n",
       "       6, 4, 3, 0, 7, 0, 2, 9, 1, 7, 3, 2, 9, 7, 7, 6, 2, 7, 8, 4, 7, 3,\n",
       "       6, 1, 3, 6, 9, 3, 1, 4, 1, 7, 6, 9], dtype=uint8)"
      ]
     },
     "execution_count": 27,
     "metadata": {},
     "output_type": "execute_result"
    }
   ],
   "source": [
    "y_test"
   ]
  },
  {
   "cell_type": "code",
   "execution_count": 28,
   "id": "0fb5181d-8b51-4e5a-8768-999d549413e8",
   "metadata": {},
   "outputs": [
    {
     "data": {
      "text/plain": [
       "array([[0., 0., 0., 0., 0., 0., 0., 1., 0., 0.],\n",
       "       [0., 0., 1., 0., 0., 0., 0., 0., 0., 0.],\n",
       "       [0., 1., 0., 0., 0., 0., 0., 0., 0., 0.],\n",
       "       [1., 0., 0., 0., 0., 0., 0., 0., 0., 0.],\n",
       "       [0., 0., 0., 0., 1., 0., 0., 0., 0., 0.],\n",
       "       [0., 1., 0., 0., 0., 0., 0., 0., 0., 0.],\n",
       "       [0., 0., 0., 0., 1., 0., 0., 0., 0., 0.],\n",
       "       [0., 0., 0., 0., 0., 0., 0., 0., 0., 1.],\n",
       "       [0., 0., 0., 0., 0., 1., 0., 0., 0., 0.],\n",
       "       [0., 0., 0., 0., 0., 0., 0., 0., 0., 1.],\n",
       "       [1., 0., 0., 0., 0., 0., 0., 0., 0., 0.],\n",
       "       [0., 0., 0., 0., 0., 0., 1., 0., 0., 0.],\n",
       "       [0., 0., 0., 0., 0., 0., 0., 0., 0., 1.],\n",
       "       [1., 0., 0., 0., 0., 0., 0., 0., 0., 0.],\n",
       "       [0., 1., 0., 0., 0., 0., 0., 0., 0., 0.],\n",
       "       [0., 0., 0., 0., 0., 1., 0., 0., 0., 0.],\n",
       "       [0., 0., 0., 0., 0., 0., 0., 0., 0., 1.],\n",
       "       [0., 0., 0., 0., 0., 0., 0., 1., 0., 0.],\n",
       "       [0., 0., 0., 1., 0., 0., 0., 0., 0., 0.],\n",
       "       [0., 0., 0., 0., 1., 0., 0., 0., 0., 0.],\n",
       "       [0., 0., 0., 0., 0., 0., 0., 0., 0., 1.],\n",
       "       [0., 0., 0., 0., 0., 0., 1., 0., 0., 0.],\n",
       "       [0., 0., 0., 0., 0., 0., 1., 0., 0., 0.],\n",
       "       [0., 0., 0., 0., 0., 1., 0., 0., 0., 0.],\n",
       "       [0., 0., 0., 0., 1., 0., 0., 0., 0., 0.],\n",
       "       [1., 0., 0., 0., 0., 0., 0., 0., 0., 0.],\n",
       "       [0., 0., 0., 0., 0., 0., 0., 1., 0., 0.],\n",
       "       [0., 0., 0., 0., 1., 0., 0., 0., 0., 0.],\n",
       "       [1., 0., 0., 0., 0., 0., 0., 0., 0., 0.],\n",
       "       [0., 1., 0., 0., 0., 0., 0., 0., 0., 0.],\n",
       "       [0., 0., 0., 1., 0., 0., 0., 0., 0., 0.],\n",
       "       [0., 1., 0., 0., 0., 0., 0., 0., 0., 0.],\n",
       "       [0., 0., 0., 1., 0., 0., 0., 0., 0., 0.],\n",
       "       [0., 0., 0., 0., 1., 0., 0., 0., 0., 0.],\n",
       "       [0., 0., 0., 0., 0., 0., 0., 1., 0., 0.],\n",
       "       [0., 0., 1., 0., 0., 0., 0., 0., 0., 0.],\n",
       "       [0., 0., 0., 0., 0., 0., 0., 1., 0., 0.],\n",
       "       [0., 1., 0., 0., 0., 0., 0., 0., 0., 0.],\n",
       "       [0., 0., 1., 0., 0., 0., 0., 0., 0., 0.],\n",
       "       [0., 1., 0., 0., 0., 0., 0., 0., 0., 0.],\n",
       "       [0., 1., 0., 0., 0., 0., 0., 0., 0., 0.],\n",
       "       [0., 0., 0., 0., 0., 0., 0., 1., 0., 0.],\n",
       "       [0., 0., 0., 0., 1., 0., 0., 0., 0., 0.],\n",
       "       [0., 0., 1., 0., 0., 0., 0., 0., 0., 0.],\n",
       "       [0., 0., 0., 1., 0., 0., 0., 0., 0., 0.],\n",
       "       [0., 0., 0., 0., 0., 1., 0., 0., 0., 0.],\n",
       "       [0., 1., 0., 0., 0., 0., 0., 0., 0., 0.],\n",
       "       [0., 0., 1., 0., 0., 0., 0., 0., 0., 0.],\n",
       "       [0., 0., 0., 0., 1., 0., 0., 0., 0., 0.],\n",
       "       [0., 0., 0., 0., 1., 0., 0., 0., 0., 0.],\n",
       "       [0., 0., 0., 0., 0., 0., 1., 0., 0., 0.],\n",
       "       [0., 0., 0., 1., 0., 0., 0., 0., 0., 0.],\n",
       "       [0., 0., 0., 0., 0., 1., 0., 0., 0., 0.],\n",
       "       [0., 0., 0., 0., 0., 1., 0., 0., 0., 0.],\n",
       "       [0., 0., 0., 0., 0., 0., 1., 0., 0., 0.],\n",
       "       [1., 0., 0., 0., 0., 0., 0., 0., 0., 0.],\n",
       "       [0., 0., 0., 0., 1., 0., 0., 0., 0., 0.],\n",
       "       [0., 1., 0., 0., 0., 0., 0., 0., 0., 0.],\n",
       "       [0., 0., 0., 0., 0., 0., 0., 0., 0., 1.],\n",
       "       [0., 0., 0., 0., 0., 1., 0., 0., 0., 0.],\n",
       "       [0., 0., 0., 0., 0., 0., 0., 1., 0., 0.],\n",
       "       [0., 0., 0., 0., 0., 0., 0., 0., 1., 0.],\n",
       "       [0., 0., 0., 0., 0., 0., 0., 0., 0., 1.],\n",
       "       [0., 0., 0., 1., 0., 0., 0., 0., 0., 0.],\n",
       "       [0., 0., 0., 0., 0., 0., 0., 1., 0., 0.],\n",
       "       [0., 0., 0., 0., 1., 0., 0., 0., 0., 0.],\n",
       "       [0., 0., 0., 0., 0., 0., 1., 0., 0., 0.],\n",
       "       [0., 0., 0., 0., 1., 0., 0., 0., 0., 0.],\n",
       "       [0., 0., 0., 1., 0., 0., 0., 0., 0., 0.],\n",
       "       [1., 0., 0., 0., 0., 0., 0., 0., 0., 0.],\n",
       "       [0., 0., 0., 0., 0., 0., 0., 1., 0., 0.],\n",
       "       [1., 0., 0., 0., 0., 0., 0., 0., 0., 0.],\n",
       "       [0., 0., 1., 0., 0., 0., 0., 0., 0., 0.],\n",
       "       [0., 0., 0., 0., 0., 0., 0., 0., 0., 1.],\n",
       "       [0., 1., 0., 0., 0., 0., 0., 0., 0., 0.],\n",
       "       [0., 0., 0., 0., 0., 0., 0., 1., 0., 0.],\n",
       "       [0., 0., 0., 1., 0., 0., 0., 0., 0., 0.],\n",
       "       [0., 0., 1., 0., 0., 0., 0., 0., 0., 0.],\n",
       "       [0., 0., 0., 0., 0., 0., 0., 0., 0., 1.],\n",
       "       [0., 0., 0., 0., 0., 0., 0., 1., 0., 0.],\n",
       "       [0., 0., 0., 0., 0., 0., 0., 1., 0., 0.],\n",
       "       [0., 0., 0., 0., 0., 0., 1., 0., 0., 0.],\n",
       "       [0., 0., 1., 0., 0., 0., 0., 0., 0., 0.],\n",
       "       [0., 0., 0., 0., 0., 0., 0., 1., 0., 0.],\n",
       "       [0., 0., 0., 0., 0., 0., 0., 0., 1., 0.],\n",
       "       [0., 0., 0., 0., 1., 0., 0., 0., 0., 0.],\n",
       "       [0., 0., 0., 0., 0., 0., 0., 1., 0., 0.],\n",
       "       [0., 0., 0., 1., 0., 0., 0., 0., 0., 0.],\n",
       "       [0., 0., 0., 0., 0., 0., 1., 0., 0., 0.],\n",
       "       [0., 1., 0., 0., 0., 0., 0., 0., 0., 0.],\n",
       "       [0., 0., 0., 1., 0., 0., 0., 0., 0., 0.],\n",
       "       [0., 0., 0., 0., 0., 0., 1., 0., 0., 0.],\n",
       "       [0., 0., 0., 0., 0., 0., 0., 0., 0., 1.],\n",
       "       [0., 0., 0., 1., 0., 0., 0., 0., 0., 0.],\n",
       "       [0., 1., 0., 0., 0., 0., 0., 0., 0., 0.],\n",
       "       [0., 0., 0., 0., 1., 0., 0., 0., 0., 0.],\n",
       "       [0., 1., 0., 0., 0., 0., 0., 0., 0., 0.],\n",
       "       [0., 0., 0., 0., 0., 0., 0., 1., 0., 0.],\n",
       "       [0., 0., 0., 0., 0., 0., 1., 0., 0., 0.],\n",
       "       [0., 0., 0., 0., 0., 0., 0., 0., 0., 1.]])"
      ]
     },
     "execution_count": 28,
     "metadata": {},
     "output_type": "execute_result"
    }
   ],
   "source": [
    "y_test_one_hot.toarray()"
   ]
  },
  {
   "cell_type": "code",
   "execution_count": 31,
   "id": "2857d4a0-c723-4518-930d-2e8636b9dcf1",
   "metadata": {},
   "outputs": [],
   "source": [
    "model_nn = ScratchSimpleNeuralNetrowkClassifier(batch_size=8, epoch=50)"
   ]
  },
  {
   "cell_type": "code",
   "execution_count": 32,
   "id": "b9c525a5-65bf-4960-8ba6-d675400f0c9e",
   "metadata": {},
   "outputs": [
    {
     "name": "stdout",
     "output_type": "stream",
     "text": [
      "Epoch 0: Train loss: 6.185779278321366 Val loss: 4.582621630974851\n",
      "Epoch 1: Train loss: 6.152752253540423 Val loss: 4.554895292583891\n",
      "Epoch 2: Train loss: 6.1103550118340015 Val loss: 4.518869728374415\n",
      "Epoch 3: Train loss: 6.051096450526129 Val loss: 4.467810914977284\n",
      "Epoch 4: Train loss: 5.965132204709083 Val loss: 4.392593125829396\n",
      "Epoch 5: Train loss: 5.843639517141234 Val loss: 4.284344835487141\n",
      "Epoch 6: Train loss: 5.690358281307351 Val loss: 4.144743647164108\n",
      "Epoch 7: Train loss: 5.531451700058944 Val loss: 3.9967929011733894\n",
      "Epoch 8: Train loss: 5.397789343438301 Val loss: 3.871196564532527\n",
      "Epoch 9: Train loss: 5.300208599963017 Val loss: 3.781594893754021\n",
      "Epoch 10: Train loss: 5.234659712190035 Val loss: 3.7260174407263573\n",
      "Epoch 11: Train loss: 5.193878786483399 Val loss: 3.69713973911106\n",
      "Epoch 12: Train loss: 5.168421952509352 Val loss: 3.683652361351564\n",
      "Epoch 13: Train loss: 5.147737897690833 Val loss: 3.6730798256292387\n",
      "Epoch 14: Train loss: 5.125116395513003 Val loss: 3.6579183257746646\n",
      "Epoch 15: Train loss: 5.099601587766242 Val loss: 3.6367412404158945\n",
      "Epoch 16: Train loss: 5.073136810361915 Val loss: 3.6112943734891485\n",
      "Epoch 17: Train loss: 5.0477731281615235 Val loss: 3.584202432033215\n",
      "Epoch 18: Train loss: 5.0246160510804 Val loss: 3.5577347261142607\n",
      "Epoch 19: Train loss: 5.003986072502024 Val loss: 3.533569631459095\n",
      "Epoch 20: Train loss: 4.9860926735895665 Val loss: 3.513022414458596\n",
      "Epoch 21: Train loss: 4.9709903550361325 Val loss: 3.4964383900158236\n",
      "Epoch 22: Train loss: 4.958107395296316 Val loss: 3.483037495290371\n",
      "Epoch 23: Train loss: 4.946735806181708 Val loss: 3.471995057171662\n",
      "Epoch 24: Train loss: 4.936757389260845 Val loss: 3.463112082752263\n",
      "Epoch 25: Train loss: 4.927942662101177 Val loss: 3.456044500823043\n",
      "Epoch 26: Train loss: 4.920307315060468 Val loss: 3.4506650550302336\n",
      "Epoch 27: Train loss: 4.914374555551824 Val loss: 3.447388337953713\n",
      "Epoch 28: Train loss: 4.910064382857086 Val loss: 3.446363938325977\n",
      "Epoch 29: Train loss: 4.907420142051428 Val loss: 3.447618824161411\n",
      "Epoch 30: Train loss: 4.906459631847369 Val loss: 3.450765947535544\n",
      "Epoch 31: Train loss: 4.906995558631744 Val loss: 3.4553223863539646\n",
      "Epoch 32: Train loss: 4.908803947518767 Val loss: 3.4612276378104463\n",
      "Epoch 33: Train loss: 4.9117814360143415 Val loss: 3.468923912901996\n",
      "Epoch 34: Train loss: 4.915833531697232 Val loss: 3.4789295766076704\n",
      "Epoch 35: Train loss: 4.920576579876961 Val loss: 3.491398380407191\n",
      "Epoch 36: Train loss: 4.925303893620568 Val loss: 3.5061152553035426\n",
      "Epoch 37: Train loss: 4.92930416689913 Val loss: 3.522810496887195\n",
      "Epoch 38: Train loss: 4.932339668915884 Val loss: 3.541471443126119\n",
      "Epoch 39: Train loss: 4.934993877347069 Val loss: 3.5624904040342074\n",
      "Epoch 40: Train loss: 4.938537778642013 Val loss: 3.586416451799934\n",
      "Epoch 41: Train loss: 4.943976997271781 Val loss: 3.6133435099256057\n",
      "Epoch 42: Train loss: 4.951430899209154 Val loss: 3.6428864533086402\n",
      "Epoch 43: Train loss: 4.960581345359884 Val loss: 3.674568616305306\n",
      "Epoch 44: Train loss: 4.971088093590333 Val loss: 3.707986818239973\n",
      "Epoch 45: Train loss: 4.9826740846584 Val loss: 3.742808181753737\n",
      "Epoch 46: Train loss: 4.995093066831026 Val loss: 3.7787390550858153\n",
      "Epoch 47: Train loss: 5.008099553863029 Val loss: 3.815515720965731\n",
      "Epoch 48: Train loss: 5.021472283176759 Val loss: 3.8529398404991526\n",
      "Epoch 49: Train loss: 5.035075574109076 Val loss: 3.8909393082929657\n"
     ]
    }
   ],
   "source": [
    "model_nn.fit(X_train, y_train_one_hot.toarray(), X_test, y_test_one_hot.toarray())"
   ]
  },
  {
   "cell_type": "code",
   "execution_count": 34,
   "id": "ff74ff23-7e2d-43c1-9428-35f2e0dc91cb",
   "metadata": {},
   "outputs": [
    {
     "data": {
      "text/plain": [
       "[<matplotlib.lines.Line2D at 0x249ef201db0>]"
      ]
     },
     "execution_count": 34,
     "metadata": {},
     "output_type": "execute_result"
    },
    {
     "data": {
      "image/png": "[encoded data removed]",
      "text/plain": [
       "<Figure size 640x480 with 1 Axes>"
      ]
     },
     "metadata": {},
     "output_type": "display_data"
    }
   ],
   "source": [
    "import matplotlib.pyplot as plt\n",
    "plt.plot(range(model_nn.epoch), model_nn.loss_train)"
   ]
  },
  {
   "cell_type": "code",
   "execution_count": 37,
   "id": "cf7a6452-79a0-4700-a416-f85f2f8875a9",
   "metadata": {},
   "outputs": [
    {
     "name": "stderr",
     "output_type": "stream",
     "text": [
      "C:\\Users\\Keun Ho Ryu\\AppData\\Local\\Temp\\ipykernel_13256\\4213227160.py:82: RuntimeWarning: overflow encountered in exp\n",
      "  return (np.exp(A)-np.exp(-A))/(np.exp(A)+np.exp(-A))\n",
      "C:\\Users\\Keun Ho Ryu\\AppData\\Local\\Temp\\ipykernel_13256\\4213227160.py:82: RuntimeWarning: invalid value encountered in divide\n",
      "  return (np.exp(A)-np.exp(-A))/(np.exp(A)+np.exp(-A))\n"
     ]
    },
    {
     "data": {
      "image/png": "[encoded data removed]",
      "text/plain": [
       "<Figure size 600x600 with 8 Axes>"
      ]
     },
     "metadata": {},
     "output_type": "display_data"
    }
   ],
   "source": [
    "#visualize\n",
    "y_pred = model_nn.predict(X_test)\n",
    "\n",
    "num = 36 #\n",
    "true_false = y_pred == y_test\n",
    "false_list = np.where(true_false==True)[0].astype(int)\n",
    "X_test = X_test*255.0\n",
    "\n",
    "if false_list.shape[0] < num:\n",
    "    num = false_list.shape[0]\n",
    "fig = plt.figure(figsize=(6, 6))\n",
    "fig.subplots_adjust(left=0, right=0.8,  bottom=0, top=0.8, hspace=1, wspace=0.5)\n",
    "for i in range(num):\n",
    "    ax = fig.add_subplot(6, 6, i + 1, xticks=[], yticks=[])\n",
    "    ax.set_title(\"{} / {}\".format(y_pred[false_list[i]],y_test[false_list[i]]))\n",
    "    ax.imshow(X_test.reshape(-1,28,28)[false_list[i]], cmap='gray')\n",
    "plt.show()"
   ]
  },
  {
   "cell_type": "code",
   "execution_count": null,
   "id": "94afa327-3a3e-416d-8f15-e3ad9dc912eb",
   "metadata": {},
   "outputs": [],
   "source": []
  }
 ],
 "metadata": {
  "kernelspec": {
   "display_name": "Python 3 (ipykernel)",
   "language": "python",
   "name": "python3"
  },
  "language_info": {
   "codemirror_mode": {
    "name": "ipython",
    "version": 3
   },
   "file_extension": ".py",
   "mimetype": "text/x-python",
   "name": "python",
   "nbconvert_exporter": "python",
   "pygments_lexer": "ipython3",
   "version": "3.10.11"
  }
 },
 "nbformat": 4,
 "nbformat_minor": 5
}
