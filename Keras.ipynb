{
  "cells": [
    {
      "cell_type": "code",
      "execution_count": 126,
      "metadata": {
        "id": "HlwLrkhsqtER"
      },
      "outputs": [],
      "source": [
        "import numpy as np\n",
        "import pandas as pd\n",
        "from keras.datasets import mnist\n",
        "import tensorflow as tf \n",
        "from sklearn.preprocessing import OneHotEncoder, StandardScaler\n",
        "from sklearn.model_selection import train_test_split\n",
        "from keras.models import Sequential\n",
        "from keras.layers import Dense, Activation, Conv2D, MaxPooling2D, Flatten\n",
        "from keras.optimizers import Adam, SGD\n",
        "import matplotlib.pyplot as plt\n",
        "from keras import metrics \n",
        "from keras.utils import to_categorical"
      ]
    },
    {
      "cell_type": "markdown",
      "metadata": {
        "id": "6BAEHUOLAIMK"
      },
      "source": [
        "[Problem 1] Share and execute the official tutorial model. Share and run the official TensorFLow tutorial model."
      ]
    },
    {
      "cell_type": "markdown",
      "metadata": {
        "id": "KJKBws-0Ajah"
      },
      "source": [
        "TensorFlow 2 quickstart for beginners"
      ]
    },
    {
      "cell_type": "code",
      "execution_count": 127,
      "metadata": {
        "colab": {
          "base_uri": "https://localhost:8080/"
        },
        "id": "W-ymvJ9TAmvM",
        "outputId": "5f167c54-9bb8-4656-fae2-7fac43c6024b"
      },
      "outputs": [
        {
          "name": "stdout",
          "output_type": "stream",
          "text": [
            "Epoch 1/5\n",
            "1875/1875 [==============================] - 7s 4ms/step - loss: 0.2992 - accuracy: 0.9132\n",
            "Epoch 2/5\n",
            "1875/1875 [==============================] - 7s 4ms/step - loss: 0.1462 - accuracy: 0.9563\n",
            "Epoch 3/5\n",
            "1875/1875 [==============================] - 7s 4ms/step - loss: 0.1079 - accuracy: 0.9668\n",
            "Epoch 4/5\n",
            "1875/1875 [==============================] - 7s 4ms/step - loss: 0.0872 - accuracy: 0.9731\n",
            "Epoch 5/5\n",
            "1875/1875 [==============================] - 7s 4ms/step - loss: 0.0745 - accuracy: 0.9769\n",
            "313/313 - 0s - loss: 0.0781 - accuracy: 0.9774 - 479ms/epoch - 2ms/step\n"
          ]
        },
        {
          "data": {
            "text/plain": [
              "<tf.Tensor: shape=(5, 10), dtype=float32, numpy=\n",
              "array([[2.65783029e-07, 4.26683542e-08, 3.97674921e-06, 1.66507583e-04,\n",
              "        5.65538251e-14, 6.44638298e-09, 1.01334702e-14, 9.99822915e-01,\n",
              "        1.08193916e-07, 6.17898922e-06],\n",
              "       [7.00526304e-09, 2.65539384e-05, 9.99917626e-01, 5.45592411e-05,\n",
              "        7.25198777e-14, 2.66524751e-07, 4.86456457e-08, 7.55616923e-13,\n",
              "        9.69305802e-07, 2.70489333e-13],\n",
              "       [7.41807128e-07, 9.98627901e-01, 2.12641724e-04, 5.80468150e-05,\n",
              "        3.69380978e-05, 1.11876689e-05, 1.24937160e-05, 8.15258012e-04,\n",
              "        2.19555383e-04, 5.18562456e-06],\n",
              "       [9.99958038e-01, 2.36761982e-11, 1.34908614e-05, 1.13219599e-07,\n",
              "        3.54161713e-08, 3.68021858e-07, 2.58519976e-05, 1.42049100e-06,\n",
              "        7.76245379e-09, 7.65384357e-07],\n",
              "       [1.10763367e-05, 2.57358810e-08, 8.97999053e-06, 1.42475687e-06,\n",
              "        9.98496532e-01, 9.20295747e-07, 5.43003807e-06, 9.21849787e-05,\n",
              "        1.76308549e-06, 1.38168456e-03]], dtype=float32)>"
            ]
          },
          "execution_count": 127,
          "metadata": {},
          "output_type": "execute_result"
        }
      ],
      "source": [
        "#Load dataset\n",
        "mnist = tf.keras.datasets.mnist\n",
        "\n",
        "(x_train, y_train), (x_test, y_test) = mnist.load_data()\n",
        "x_train, x_test = x_train / 255.0, x_test / 255.0\n",
        "\n",
        "#Build a machine learning model\n",
        "model = tf.keras.models.Sequential([\n",
        "  tf.keras.layers.Flatten(input_shape=(28, 28)),\n",
        "  tf.keras.layers.Dense(128, activation='relu'),\n",
        "  tf.keras.layers.Dropout(0.2),\n",
        "  tf.keras.layers.Dense(10)\n",
        "])\n",
        "\n",
        "predictions = model(x_train[:1]).numpy()\n",
        "predictions\n",
        "\n",
        "tf.nn.softmax(predictions).numpy()\n",
        "\n",
        "loss_fn = tf.keras.losses.SparseCategoricalCrossentropy(from_logits=True)\n",
        "\n",
        "loss_fn(y_train[:1], predictions).numpy()\n",
        "\n",
        "model.compile(optimizer='adam',\n",
        "              loss=loss_fn,\n",
        "              metrics=['accuracy'])\n",
        "\n",
        "#Train and evaluate your model\n",
        "model.fit(x_train, y_train, epochs=5)\n",
        "\n",
        "model.evaluate(x_test,  y_test, verbose=2)\n",
        "\n",
        "probability_model = tf.keras.Sequential([\n",
        "  model,\n",
        "  tf.keras.layers.Softmax()\n",
        "])\n",
        "\n",
        "probability_model(x_test[:5])"
      ]
    },
    {
      "cell_type": "markdown",
      "metadata": {
        "id": "xnvsWMvqw9O5"
      },
      "source": [
        "[Problem 3] Learning Iris (binary classification) with Keras. Rewrite the binary classification for the Iris dataset by TensorFlow to Keras."
      ]
    },
    {
      "cell_type": "code",
      "execution_count": 133,
      "metadata": {
        "colab": {
          "base_uri": "https://localhost:8080/"
        },
        "id": "UyKSh24axDQp",
        "outputId": "19492272-0d6f-478a-a594-399a39ba64dc"
      },
      "outputs": [
        {
          "name": "stdout",
          "output_type": "stream",
          "text": [
            "n features: 4\n",
            "n classes: 1\n"
          ]
        }
      ],
      "source": [
        "df = pd.read_csv(\"Iris.csv\")\n",
        "df = df[(df[\"Species\"] == \"Iris-versicolor\") | (df[\"Species\"] == \"Iris-virginica\")]\n",
        "y = df[\"Species\"]\n",
        "X = df.loc[:, [\"SepalLengthCm\", \"SepalWidthCm\", \"PetalLengthCm\", \"PetalWidthCm\"]]\n",
        "X = np.array(X)\n",
        "y = np.array(y)\n",
        "y[y == \"Iris-versicolor\"] = 0\n",
        "y[y == \"Iris-virginica\"] = 1\n",
        "y = y.astype(np.int64)[:, np.newaxis]\n",
        "X_train, X_test, y_train, y_test = train_test_split(X, y, test_size=0.2, random_state=0)\n",
        "X_train, X_val, y_train, y_val = train_test_split(X_train, y_train, test_size=0.2, random_state=0)\n",
        "n_features = X.shape[1]\n",
        "n_classes = y.shape[1]"
      ]
    },
    {
      "cell_type": "code",
      "execution_count": 134,
      "metadata": {
        "colab": {
          "base_uri": "https://localhost:8080/"
        },
        "id": "4AKK-h_5CHr4",
        "outputId": "1bc38f63-8059-44a5-8952-9ecd6564e727"
      },
      "outputs": [
        {
          "name": "stdout",
          "output_type": "stream",
          "text": [
            "Model: \"sequential_26\"\n",
            "_________________________________________________________________\n",
            " Layer (type)                Output Shape              Param #   \n",
            "=================================================================\n",
            " dense_39 (Dense)            (None, 20)                100       \n",
            "                                                                 \n",
            " dense_40 (Dense)            (None, 5)                 105       \n",
            "                                                                 \n",
            " dense_41 (Dense)            (None, 1)                 6         \n",
            "                                                                 \n",
            "=================================================================\n",
            "Total params: 211\n",
            "Trainable params: 211\n",
            "Non-trainable params: 0\n",
            "_________________________________________________________________\n",
            "None\n"
          ]
        }
      ],
      "source": [
        "model = Sequential()\n",
        "model.add(Dense(20, input_dim = n_features, activation='relu'))\n",
        "model.add(Dense(5, activation='relu'))\n",
        "model.add(Dense(n_classes, activation='sigmoid'))\n",
        "\n",
        "print(model.summary())"
      ]
    },
    {
      "cell_type": "code",
      "execution_count": 135,
      "metadata": {
        "colab": {
          "base_uri": "https://localhost:8080/"
        },
        "id": "zF-BJ4ugCl1F",
        "outputId": "d29c58e7-c347-46d9-ce1f-8df320016411"
      },
      "outputs": [
        {
          "name": "stdout",
          "output_type": "stream",
          "text": [
            "Epoch 1/50\n",
            "4/4 [==============================] - 1s 59ms/step - loss: 0.6932 - accuracy: 0.4688 - val_loss: 0.6932 - val_accuracy: 0.3750\n",
            "Epoch 2/50\n",
            "4/4 [==============================] - 0s 10ms/step - loss: 0.6931 - accuracy: 0.5312 - val_loss: 0.6934 - val_accuracy: 0.3750\n",
            "Epoch 3/50\n",
            "4/4 [==============================] - 0s 10ms/step - loss: 0.6931 - accuracy: 0.5312 - val_loss: 0.6936 - val_accuracy: 0.3750\n",
            "Epoch 4/50\n",
            "4/4 [==============================] - 0s 11ms/step - loss: 0.6930 - accuracy: 0.5312 - val_loss: 0.6937 - val_accuracy: 0.3750\n",
            "Epoch 5/50\n",
            "4/4 [==============================] - 0s 11ms/step - loss: 0.6931 - accuracy: 0.5312 - val_loss: 0.6939 - val_accuracy: 0.3750\n",
            "Epoch 6/50\n",
            "4/4 [==============================] - 0s 11ms/step - loss: 0.6930 - accuracy: 0.5312 - val_loss: 0.6941 - val_accuracy: 0.3750\n",
            "Epoch 7/50\n",
            "4/4 [==============================] - 0s 11ms/step - loss: 0.6929 - accuracy: 0.5312 - val_loss: 0.6942 - val_accuracy: 0.3750\n",
            "Epoch 8/50\n",
            "4/4 [==============================] - 0s 11ms/step - loss: 0.6929 - accuracy: 0.5312 - val_loss: 0.6943 - val_accuracy: 0.3750\n",
            "Epoch 9/50\n",
            "4/4 [==============================] - 0s 12ms/step - loss: 0.6929 - accuracy: 0.5312 - val_loss: 0.6945 - val_accuracy: 0.3750\n",
            "Epoch 10/50\n",
            "4/4 [==============================] - 0s 12ms/step - loss: 0.6928 - accuracy: 0.5312 - val_loss: 0.6946 - val_accuracy: 0.3750\n",
            "Epoch 11/50\n",
            "4/4 [==============================] - 0s 10ms/step - loss: 0.6928 - accuracy: 0.5312 - val_loss: 0.6946 - val_accuracy: 0.3750\n",
            "Epoch 12/50\n",
            "4/4 [==============================] - 0s 10ms/step - loss: 0.6928 - accuracy: 0.5312 - val_loss: 0.6947 - val_accuracy: 0.3750\n",
            "Epoch 13/50\n",
            "4/4 [==============================] - 0s 13ms/step - loss: 0.6928 - accuracy: 0.5312 - val_loss: 0.6949 - val_accuracy: 0.3750\n",
            "Epoch 14/50\n",
            "4/4 [==============================] - 0s 10ms/step - loss: 0.6927 - accuracy: 0.5312 - val_loss: 0.6950 - val_accuracy: 0.3750\n",
            "Epoch 15/50\n",
            "4/4 [==============================] - 0s 10ms/step - loss: 0.6927 - accuracy: 0.5312 - val_loss: 0.6951 - val_accuracy: 0.3750\n",
            "Epoch 16/50\n",
            "4/4 [==============================] - 0s 11ms/step - loss: 0.6927 - accuracy: 0.5312 - val_loss: 0.6953 - val_accuracy: 0.3750\n",
            "Epoch 17/50\n",
            "4/4 [==============================] - 0s 16ms/step - loss: 0.6927 - accuracy: 0.5312 - val_loss: 0.6953 - val_accuracy: 0.3750\n",
            "Epoch 18/50\n",
            "4/4 [==============================] - 0s 18ms/step - loss: 0.6926 - accuracy: 0.5312 - val_loss: 0.6954 - val_accuracy: 0.3750\n",
            "Epoch 19/50\n",
            "4/4 [==============================] - 0s 11ms/step - loss: 0.6926 - accuracy: 0.5312 - val_loss: 0.6955 - val_accuracy: 0.3750\n",
            "Epoch 20/50\n",
            "4/4 [==============================] - 0s 13ms/step - loss: 0.6926 - accuracy: 0.5312 - val_loss: 0.6957 - val_accuracy: 0.3750\n",
            "Epoch 21/50\n",
            "4/4 [==============================] - 0s 17ms/step - loss: 0.6926 - accuracy: 0.5312 - val_loss: 0.6958 - val_accuracy: 0.3750\n",
            "Epoch 22/50\n",
            "4/4 [==============================] - 0s 18ms/step - loss: 0.6926 - accuracy: 0.5312 - val_loss: 0.6959 - val_accuracy: 0.3750\n",
            "Epoch 23/50\n",
            "4/4 [==============================] - 0s 10ms/step - loss: 0.6925 - accuracy: 0.5312 - val_loss: 0.6960 - val_accuracy: 0.3750\n",
            "Epoch 24/50\n",
            "4/4 [==============================] - 0s 10ms/step - loss: 0.6925 - accuracy: 0.5312 - val_loss: 0.6961 - val_accuracy: 0.3750\n",
            "Epoch 25/50\n",
            "4/4 [==============================] - 0s 10ms/step - loss: 0.6925 - accuracy: 0.5312 - val_loss: 0.6963 - val_accuracy: 0.3750\n",
            "Epoch 26/50\n",
            "4/4 [==============================] - 0s 10ms/step - loss: 0.6925 - accuracy: 0.5312 - val_loss: 0.6964 - val_accuracy: 0.3750\n",
            "Epoch 27/50\n",
            "4/4 [==============================] - 0s 10ms/step - loss: 0.6924 - accuracy: 0.5312 - val_loss: 0.6965 - val_accuracy: 0.3750\n",
            "Epoch 28/50\n",
            "4/4 [==============================] - 0s 11ms/step - loss: 0.6924 - accuracy: 0.5312 - val_loss: 0.6966 - val_accuracy: 0.3750\n",
            "Epoch 29/50\n",
            "4/4 [==============================] - 0s 18ms/step - loss: 0.6924 - accuracy: 0.5312 - val_loss: 0.6967 - val_accuracy: 0.3750\n",
            "Epoch 30/50\n",
            "4/4 [==============================] - 0s 11ms/step - loss: 0.6924 - accuracy: 0.5312 - val_loss: 0.6968 - val_accuracy: 0.3750\n",
            "Epoch 31/50\n",
            "4/4 [==============================] - 0s 10ms/step - loss: 0.6924 - accuracy: 0.5312 - val_loss: 0.6968 - val_accuracy: 0.3750\n",
            "Epoch 32/50\n",
            "4/4 [==============================] - 0s 10ms/step - loss: 0.6924 - accuracy: 0.5312 - val_loss: 0.6970 - val_accuracy: 0.3750\n",
            "Epoch 33/50\n",
            "4/4 [==============================] - 0s 16ms/step - loss: 0.6923 - accuracy: 0.5312 - val_loss: 0.6971 - val_accuracy: 0.3750\n",
            "Epoch 34/50\n",
            "4/4 [==============================] - 0s 13ms/step - loss: 0.6923 - accuracy: 0.5312 - val_loss: 0.6972 - val_accuracy: 0.3750\n",
            "Epoch 35/50\n",
            "4/4 [==============================] - 0s 11ms/step - loss: 0.6923 - accuracy: 0.5312 - val_loss: 0.6973 - val_accuracy: 0.3750\n",
            "Epoch 36/50\n",
            "4/4 [==============================] - 0s 12ms/step - loss: 0.6923 - accuracy: 0.5312 - val_loss: 0.6974 - val_accuracy: 0.3750\n",
            "Epoch 37/50\n",
            "4/4 [==============================] - 0s 11ms/step - loss: 0.6922 - accuracy: 0.5312 - val_loss: 0.6975 - val_accuracy: 0.3750\n",
            "Epoch 38/50\n",
            "4/4 [==============================] - 0s 12ms/step - loss: 0.6922 - accuracy: 0.5312 - val_loss: 0.6976 - val_accuracy: 0.3750\n",
            "Epoch 39/50\n",
            "4/4 [==============================] - 0s 21ms/step - loss: 0.6922 - accuracy: 0.5312 - val_loss: 0.6977 - val_accuracy: 0.3750\n",
            "Epoch 40/50\n",
            "4/4 [==============================] - 0s 11ms/step - loss: 0.6922 - accuracy: 0.5312 - val_loss: 0.6978 - val_accuracy: 0.3750\n",
            "Epoch 41/50\n",
            "4/4 [==============================] - 0s 11ms/step - loss: 0.6922 - accuracy: 0.5312 - val_loss: 0.6979 - val_accuracy: 0.3750\n",
            "Epoch 42/50\n",
            "4/4 [==============================] - 0s 11ms/step - loss: 0.6922 - accuracy: 0.5312 - val_loss: 0.6980 - val_accuracy: 0.3750\n",
            "Epoch 43/50\n",
            "4/4 [==============================] - 0s 11ms/step - loss: 0.6921 - accuracy: 0.5312 - val_loss: 0.6981 - val_accuracy: 0.3750\n",
            "Epoch 44/50\n",
            "4/4 [==============================] - 0s 12ms/step - loss: 0.6922 - accuracy: 0.5312 - val_loss: 0.6983 - val_accuracy: 0.3750\n",
            "Epoch 45/50\n",
            "4/4 [==============================] - 0s 15ms/step - loss: 0.6921 - accuracy: 0.5312 - val_loss: 0.6984 - val_accuracy: 0.3750\n",
            "Epoch 46/50\n",
            "4/4 [==============================] - 0s 10ms/step - loss: 0.6921 - accuracy: 0.5312 - val_loss: 0.6985 - val_accuracy: 0.3750\n",
            "Epoch 47/50\n",
            "4/4 [==============================] - 0s 12ms/step - loss: 0.6921 - accuracy: 0.5312 - val_loss: 0.6986 - val_accuracy: 0.3750\n",
            "Epoch 48/50\n",
            "4/4 [==============================] - 0s 10ms/step - loss: 0.6921 - accuracy: 0.5312 - val_loss: 0.6987 - val_accuracy: 0.3750\n",
            "Epoch 49/50\n",
            "4/4 [==============================] - 0s 12ms/step - loss: 0.6920 - accuracy: 0.5312 - val_loss: 0.6987 - val_accuracy: 0.3750\n",
            "Epoch 50/50\n",
            "4/4 [==============================] - 0s 11ms/step - loss: 0.6920 - accuracy: 0.5312 - val_loss: 0.6988 - val_accuracy: 0.3750\n",
            "Test loss: 0.6933833360671997\n",
            "Test accuracy: 0.5\n"
          ]
        }
      ],
      "source": [
        "model.compile(loss='binary_crossentropy', optimizer='adam', metrics=['accuracy'])\n",
        "\n",
        "history = model.fit(\n",
        "        X_train,\n",
        "        y_train,\n",
        "        validation_data=(X_val, y_val),\n",
        "        epochs=50,\n",
        "        batch_size=16,\n",
        "        verbose=True)\n",
        "\n",
        "score = model.evaluate(X_test, y_test, verbose=0)\n",
        "print('Test loss:', score[0])\n",
        "print('Test accuracy:', score[1])"
      ]
    },
    {
      "cell_type": "markdown",
      "metadata": {
        "id": "KySyBRzOUqXX"
      },
      "source": [
        "[Problem 4] Learn Iris (multi-level classification) with Keras. \n",
        "Rewrite the ternary classification for Iris dataset by TensorFlow to Keras."
      ]
    },
    {
      "cell_type": "code",
      "execution_count": 148,
      "metadata": {
        "colab": {
          "base_uri": "https://localhost:8080/"
        },
        "id": "fCfW2QhMU257",
        "outputId": "38571591-0d40-4869-ed40-718d5d7f0cbe"
      },
      "outputs": [
        {
          "name": "stderr",
          "output_type": "stream",
          "text": [
            "/usr/local/lib/python3.10/dist-packages/sklearn/preprocessing/_encoders.py:868: FutureWarning: `sparse` was renamed to `sparse_output` in version 1.2 and will be removed in 1.4. `sparse_output` is ignored unless you leave `sparse` to its default value.\n",
            "  warnings.warn(\n"
          ]
        }
      ],
      "source": [
        "y = df[\"Species\"].to_numpy()\n",
        "X = df.loc[:, [\"SepalLengthCm\", \"SepalWidthCm\", \"PetalLengthCm\", \"PetalWidthCm\"]].to_numpy()\n",
        "y[y == \"Iris-versicolor\"] = 0\n",
        "y[y == \"Iris-virginica\"] = 1\n",
        "y[y == \"Iris-setosa\"] = 2\n",
        "#y = y.astype(np.int64)[:, np.newaxis]\n",
        "\n",
        "enc = OneHotEncoder(handle_unknown='ignore', sparse=False)\n",
        "y = enc.fit_transform(y[:,np.newaxis])\n",
        "X_train, X_test, y_train, y_test = train_test_split(X, y, test_size=0.2, random_state=0)\n",
        "X_train, X_val, y_train, y_val = train_test_split(X_train, y_train, test_size=0.2, random_state=0)\n",
        "n_features = X.shape[1]\n",
        "n_classes = y.shape[1]"
      ]
    },
    {
      "cell_type": "code",
      "execution_count": 149,
      "metadata": {
        "colab": {
          "base_uri": "https://localhost:8080/"
        },
        "id": "oa2yXn2lVa0h",
        "outputId": "3fcb92ee-b064-435f-f7c7-0e934e46cb7e"
      },
      "outputs": [
        {
          "name": "stdout",
          "output_type": "stream",
          "text": [
            "Model: \"sequential_31\"\n",
            "_________________________________________________________________\n",
            " Layer (type)                Output Shape              Param #   \n",
            "=================================================================\n",
            " dense_54 (Dense)            (None, 100)               500       \n",
            "                                                                 \n",
            " dense_55 (Dense)            (None, 10)                1010      \n",
            "                                                                 \n",
            " dense_56 (Dense)            (None, 3)                 33        \n",
            "                                                                 \n",
            "=================================================================\n",
            "Total params: 1,543\n",
            "Trainable params: 1,543\n",
            "Non-trainable params: 0\n",
            "_________________________________________________________________\n",
            "None\n"
          ]
        }
      ],
      "source": [
        "model = Sequential()\n",
        "model.add(Dense(100, input_dim = n_features, activation='relu'))\n",
        "model.add(Dense(10, activation='relu'))\n",
        "model.add(Dense(n_classes, activation='softmax'))\n",
        "\n",
        "print(model.summary())"
      ]
    },
    {
      "cell_type": "code",
      "execution_count": 150,
      "metadata": {
        "colab": {
          "base_uri": "https://localhost:8080/"
        },
        "id": "fCZyqU7tVcne",
        "outputId": "9fc56866-35d6-43a5-ab0b-23978c9e8ac7"
      },
      "outputs": [
        {
          "name": "stdout",
          "output_type": "stream",
          "text": [
            "Epoch 1/50\n",
            "6/6 [==============================] - 1s 58ms/step - loss: 1.2242 - accuracy: 0.3125 - val_loss: 1.0763 - val_accuracy: 0.3750\n",
            "Epoch 2/50\n",
            "6/6 [==============================] - 0s 14ms/step - loss: 1.0586 - accuracy: 0.3646 - val_loss: 1.0012 - val_accuracy: 0.3750\n",
            "Epoch 3/50\n",
            "6/6 [==============================] - 0s 12ms/step - loss: 0.9726 - accuracy: 0.5000 - val_loss: 0.9303 - val_accuracy: 0.7083\n",
            "Epoch 4/50\n",
            "6/6 [==============================] - 0s 15ms/step - loss: 0.9099 - accuracy: 0.6875 - val_loss: 0.8721 - val_accuracy: 0.7083\n",
            "Epoch 5/50\n",
            "6/6 [==============================] - 0s 15ms/step - loss: 0.8597 - accuracy: 0.6875 - val_loss: 0.8285 - val_accuracy: 0.7083\n",
            "Epoch 6/50\n",
            "6/6 [==============================] - 0s 14ms/step - loss: 0.8162 - accuracy: 0.6875 - val_loss: 0.7919 - val_accuracy: 0.7083\n",
            "Epoch 7/50\n",
            "6/6 [==============================] - 0s 12ms/step - loss: 0.7803 - accuracy: 0.6875 - val_loss: 0.7661 - val_accuracy: 0.7083\n",
            "Epoch 8/50\n",
            "6/6 [==============================] - 0s 15ms/step - loss: 0.7512 - accuracy: 0.6875 - val_loss: 0.7359 - val_accuracy: 0.7083\n",
            "Epoch 9/50\n",
            "6/6 [==============================] - 0s 11ms/step - loss: 0.7231 - accuracy: 0.6875 - val_loss: 0.7126 - val_accuracy: 0.7083\n",
            "Epoch 10/50\n",
            "6/6 [==============================] - 0s 7ms/step - loss: 0.7001 - accuracy: 0.6875 - val_loss: 0.6903 - val_accuracy: 0.7083\n",
            "Epoch 11/50\n",
            "6/6 [==============================] - 0s 11ms/step - loss: 0.6772 - accuracy: 0.6875 - val_loss: 0.6702 - val_accuracy: 0.7083\n",
            "Epoch 12/50\n",
            "6/6 [==============================] - 0s 12ms/step - loss: 0.6550 - accuracy: 0.6875 - val_loss: 0.6515 - val_accuracy: 0.7083\n",
            "Epoch 13/50\n",
            "6/6 [==============================] - 0s 7ms/step - loss: 0.6353 - accuracy: 0.6875 - val_loss: 0.6337 - val_accuracy: 0.7083\n",
            "Epoch 14/50\n",
            "6/6 [==============================] - 0s 7ms/step - loss: 0.6179 - accuracy: 0.6875 - val_loss: 0.6141 - val_accuracy: 0.7083\n",
            "Epoch 15/50\n",
            "6/6 [==============================] - 0s 12ms/step - loss: 0.5988 - accuracy: 0.6875 - val_loss: 0.5998 - val_accuracy: 0.7083\n",
            "Epoch 16/50\n",
            "6/6 [==============================] - 0s 8ms/step - loss: 0.5849 - accuracy: 0.6875 - val_loss: 0.5815 - val_accuracy: 0.7083\n",
            "Epoch 17/50\n",
            "6/6 [==============================] - 0s 11ms/step - loss: 0.5662 - accuracy: 0.6875 - val_loss: 0.5722 - val_accuracy: 0.7083\n",
            "Epoch 18/50\n",
            "6/6 [==============================] - 0s 8ms/step - loss: 0.5518 - accuracy: 0.6875 - val_loss: 0.5578 - val_accuracy: 0.7083\n",
            "Epoch 19/50\n",
            "6/6 [==============================] - 0s 11ms/step - loss: 0.5385 - accuracy: 0.6875 - val_loss: 0.5423 - val_accuracy: 0.7083\n",
            "Epoch 20/50\n",
            "6/6 [==============================] - 0s 8ms/step - loss: 0.5259 - accuracy: 0.6875 - val_loss: 0.5361 - val_accuracy: 0.7083\n",
            "Epoch 21/50\n",
            "6/6 [==============================] - 0s 8ms/step - loss: 0.5123 - accuracy: 0.6875 - val_loss: 0.5233 - val_accuracy: 0.7083\n",
            "Epoch 22/50\n",
            "6/6 [==============================] - 0s 10ms/step - loss: 0.5004 - accuracy: 0.6875 - val_loss: 0.5090 - val_accuracy: 0.7083\n",
            "Epoch 23/50\n",
            "6/6 [==============================] - 0s 7ms/step - loss: 0.4900 - accuracy: 0.6875 - val_loss: 0.5010 - val_accuracy: 0.7083\n",
            "Epoch 24/50\n",
            "6/6 [==============================] - 0s 11ms/step - loss: 0.4822 - accuracy: 0.6875 - val_loss: 0.5006 - val_accuracy: 0.7083\n",
            "Epoch 25/50\n",
            "6/6 [==============================] - 0s 11ms/step - loss: 0.4678 - accuracy: 0.6875 - val_loss: 0.4811 - val_accuracy: 0.7083\n",
            "Epoch 26/50\n",
            "6/6 [==============================] - 0s 7ms/step - loss: 0.4586 - accuracy: 0.6875 - val_loss: 0.4717 - val_accuracy: 0.7083\n",
            "Epoch 27/50\n",
            "6/6 [==============================] - 0s 10ms/step - loss: 0.4466 - accuracy: 0.6875 - val_loss: 0.4691 - val_accuracy: 0.7083\n",
            "Epoch 28/50\n",
            "6/6 [==============================] - 0s 9ms/step - loss: 0.4364 - accuracy: 0.7083 - val_loss: 0.4592 - val_accuracy: 0.7083\n",
            "Epoch 29/50\n",
            "6/6 [==============================] - 0s 9ms/step - loss: 0.4255 - accuracy: 0.7292 - val_loss: 0.4457 - val_accuracy: 0.7083\n",
            "Epoch 30/50\n",
            "6/6 [==============================] - 0s 11ms/step - loss: 0.4149 - accuracy: 0.7396 - val_loss: 0.4372 - val_accuracy: 0.7083\n",
            "Epoch 31/50\n",
            "6/6 [==============================] - 0s 7ms/step - loss: 0.4038 - accuracy: 0.7604 - val_loss: 0.4312 - val_accuracy: 0.7083\n",
            "Epoch 32/50\n",
            "6/6 [==============================] - 0s 7ms/step - loss: 0.3942 - accuracy: 0.7917 - val_loss: 0.4249 - val_accuracy: 0.7083\n",
            "Epoch 33/50\n",
            "6/6 [==============================] - 0s 12ms/step - loss: 0.3805 - accuracy: 0.8646 - val_loss: 0.4086 - val_accuracy: 0.7500\n",
            "Epoch 34/50\n",
            "6/6 [==============================] - 0s 7ms/step - loss: 0.3707 - accuracy: 0.8854 - val_loss: 0.4016 - val_accuracy: 0.7917\n",
            "Epoch 35/50\n",
            "6/6 [==============================] - 0s 7ms/step - loss: 0.3574 - accuracy: 0.8854 - val_loss: 0.3949 - val_accuracy: 0.7917\n",
            "Epoch 36/50\n",
            "6/6 [==============================] - 0s 9ms/step - loss: 0.3494 - accuracy: 0.8854 - val_loss: 0.3817 - val_accuracy: 0.8750\n",
            "Epoch 37/50\n",
            "6/6 [==============================] - 0s 11ms/step - loss: 0.3323 - accuracy: 0.9062 - val_loss: 0.3780 - val_accuracy: 0.7917\n",
            "Epoch 38/50\n",
            "6/6 [==============================] - 0s 7ms/step - loss: 0.3294 - accuracy: 0.8854 - val_loss: 0.3731 - val_accuracy: 0.7917\n",
            "Epoch 39/50\n",
            "6/6 [==============================] - 0s 9ms/step - loss: 0.3123 - accuracy: 0.9375 - val_loss: 0.3530 - val_accuracy: 0.9167\n",
            "Epoch 40/50\n",
            "6/6 [==============================] - 0s 10ms/step - loss: 0.3036 - accuracy: 0.9583 - val_loss: 0.3474 - val_accuracy: 0.9167\n",
            "Epoch 41/50\n",
            "6/6 [==============================] - 0s 9ms/step - loss: 0.2890 - accuracy: 0.9479 - val_loss: 0.3456 - val_accuracy: 0.9167\n",
            "Epoch 42/50\n",
            "6/6 [==============================] - 0s 7ms/step - loss: 0.2795 - accuracy: 0.9479 - val_loss: 0.3358 - val_accuracy: 0.9167\n",
            "Epoch 43/50\n",
            "6/6 [==============================] - 0s 7ms/step - loss: 0.2691 - accuracy: 0.9583 - val_loss: 0.3260 - val_accuracy: 0.9167\n",
            "Epoch 44/50\n",
            "6/6 [==============================] - 0s 7ms/step - loss: 0.2604 - accuracy: 0.9583 - val_loss: 0.3189 - val_accuracy: 0.9167\n",
            "Epoch 45/50\n",
            "6/6 [==============================] - 0s 7ms/step - loss: 0.2543 - accuracy: 0.9583 - val_loss: 0.3121 - val_accuracy: 0.9167\n",
            "Epoch 46/50\n",
            "6/6 [==============================] - 0s 11ms/step - loss: 0.2548 - accuracy: 0.9479 - val_loss: 0.3187 - val_accuracy: 0.9167\n",
            "Epoch 47/50\n",
            "6/6 [==============================] - 0s 8ms/step - loss: 0.2365 - accuracy: 0.9583 - val_loss: 0.3004 - val_accuracy: 0.9167\n",
            "Epoch 48/50\n",
            "6/6 [==============================] - 0s 7ms/step - loss: 0.2286 - accuracy: 0.9688 - val_loss: 0.2955 - val_accuracy: 0.9167\n",
            "Epoch 49/50\n",
            "6/6 [==============================] - 0s 11ms/step - loss: 0.2243 - accuracy: 0.9583 - val_loss: 0.2986 - val_accuracy: 0.9167\n",
            "Epoch 50/50\n",
            "6/6 [==============================] - 0s 8ms/step - loss: 0.2147 - accuracy: 0.9688 - val_loss: 0.2844 - val_accuracy: 0.9167\n",
            "Test loss: 0.2205357849597931\n",
            "Test accuracy: 1.0\n"
          ]
        }
      ],
      "source": [
        "model.compile(loss='categorical_crossentropy', optimizer='adam', metrics=['accuracy'])\n",
        "\n",
        "history = model.fit(\n",
        "        X_train,\n",
        "        y_train,\n",
        "        validation_data=(X_val, y_val),\n",
        "        epochs=50,\n",
        "        batch_size=16,\n",
        "        verbose=True)\n",
        "\n",
        "score = model.evaluate(X_test, y_test, verbose=0)\n",
        "print('Test loss:', score[0])\n",
        "print('Test accuracy:', score[1])"
      ]
    },
    {
      "cell_type": "markdown",
      "metadata": {
        "id": "UXdjgbWKYR1g"
      },
      "source": [
        "[Problem 5] Learning House Prices with Keras. Rewrite the regression on the House Prices data set by TensorFlow to Keras."
      ]
    },
    {
      "cell_type": "code",
      "execution_count": 157,
      "metadata": {
        "colab": {
          "base_uri": "https://localhost:8080/"
        },
        "id": "h5uvaBkCYWxm",
        "outputId": "2eb938b0-e391-41d5-ecc5-c4def2713b2e"
      },
      "outputs": [
        {
          "name": "stdout",
          "output_type": "stream",
          "text": [
            "Xshape: (1460, 2)\n",
            "yshape: (1460, 1)\n",
            "Xshape: (1460, 2)\n",
            "yshape: (1460, 1)\n"
          ]
        }
      ],
      "source": [
        "house_data = pd.read_csv('train.csv')\n",
        "\n",
        "X = house_data[['GrLivArea', 'YearBuilt']].to_numpy()\n",
        "y = house_data[['SalePrice']].to_numpy()\n",
        "print(\"Xshape:\", X.shape)\n",
        "print(\"yshape:\", y.shape)\n",
        "X = np.log1p(X)\n",
        "y = np.log1p(y)\n",
        "\n",
        "print(\"Xshape:\", X.shape)\n",
        "print(\"yshape:\", y.shape)\n",
        "X_train, X_test, y_train, y_test = train_test_split(X, y, random_state=123, test_size=0.2)\n",
        "X_train, X_val, y_train, y_val = train_test_split(X_train, y_train, random_state=123, test_size=0.2)"
      ]
    },
    {
      "cell_type": "code",
      "execution_count": 158,
      "metadata": {
        "colab": {
          "base_uri": "https://localhost:8080/"
        },
        "id": "XuXZXy5xYfPZ",
        "outputId": "2675f68d-dd09-4ae9-b761-1477d798e26d"
      },
      "outputs": [
        {
          "name": "stdout",
          "output_type": "stream",
          "text": [
            "Model: \"sequential_33\"\n",
            "_________________________________________________________________\n",
            " Layer (type)                Output Shape              Param #   \n",
            "=================================================================\n",
            " dense_59 (Dense)            (None, 10)                30        \n",
            "                                                                 \n",
            " dense_60 (Dense)            (None, 30)                330       \n",
            "                                                                 \n",
            " dense_61 (Dense)            (None, 40)                1240      \n",
            "                                                                 \n",
            " dense_62 (Dense)            (None, 1)                 41        \n",
            "                                                                 \n",
            "=================================================================\n",
            "Total params: 1,641\n",
            "Trainable params: 1,641\n",
            "Non-trainable params: 0\n",
            "_________________________________________________________________\n"
          ]
        }
      ],
      "source": [
        "model = Sequential()\n",
        "model.add(Dense(10, input_dim=X_train.shape[1], activation='relu'))\n",
        "model.add(Dense(30, activation='relu'))\n",
        "model.add(Dense(40, activation='relu'))\n",
        "model.add(Dense(1))\n",
        "\n",
        "model.summary()"
      ]
    },
    {
      "cell_type": "code",
      "execution_count": 159,
      "metadata": {
        "colab": {
          "base_uri": "https://localhost:8080/"
        },
        "id": "QSzAfcE3YodD",
        "outputId": "637cad33-f8a5-45f4-f0dc-8b71ed627604"
      },
      "outputs": [
        {
          "name": "stdout",
          "output_type": "stream",
          "text": [
            "Epoch 1/15\n",
            "30/30 [==============================] - 1s 8ms/step - loss: 104.3247 - mean_squared_error: 104.3247 - val_loss: 71.0526 - val_mean_squared_error: 71.0526\n",
            "Epoch 2/15\n",
            "30/30 [==============================] - 0s 3ms/step - loss: 37.1417 - mean_squared_error: 37.1417 - val_loss: 5.2670 - val_mean_squared_error: 5.2670\n",
            "Epoch 3/15\n",
            "30/30 [==============================] - 0s 3ms/step - loss: 1.0238 - mean_squared_error: 1.0238 - val_loss: 0.4387 - val_mean_squared_error: 0.4387\n",
            "Epoch 4/15\n",
            "30/30 [==============================] - 0s 3ms/step - loss: 0.1339 - mean_squared_error: 0.1339 - val_loss: 0.1042 - val_mean_squared_error: 0.1042\n",
            "Epoch 5/15\n",
            "30/30 [==============================] - 0s 3ms/step - loss: 0.0825 - mean_squared_error: 0.0825 - val_loss: 0.0992 - val_mean_squared_error: 0.0992\n",
            "Epoch 6/15\n",
            "30/30 [==============================] - 0s 3ms/step - loss: 0.0805 - mean_squared_error: 0.0805 - val_loss: 0.0966 - val_mean_squared_error: 0.0966\n",
            "Epoch 7/15\n",
            "30/30 [==============================] - 0s 3ms/step - loss: 0.0805 - mean_squared_error: 0.0805 - val_loss: 0.0963 - val_mean_squared_error: 0.0963\n",
            "Epoch 8/15\n",
            "30/30 [==============================] - 0s 3ms/step - loss: 0.0802 - mean_squared_error: 0.0802 - val_loss: 0.0963 - val_mean_squared_error: 0.0963\n",
            "Epoch 9/15\n",
            "30/30 [==============================] - 0s 3ms/step - loss: 0.0803 - mean_squared_error: 0.0803 - val_loss: 0.0952 - val_mean_squared_error: 0.0952\n",
            "Epoch 10/15\n",
            "30/30 [==============================] - 0s 4ms/step - loss: 0.0800 - mean_squared_error: 0.0800 - val_loss: 0.0960 - val_mean_squared_error: 0.0960\n",
            "Epoch 11/15\n",
            "30/30 [==============================] - 0s 4ms/step - loss: 0.0800 - mean_squared_error: 0.0800 - val_loss: 0.0971 - val_mean_squared_error: 0.0971\n",
            "Epoch 12/15\n",
            "30/30 [==============================] - 0s 3ms/step - loss: 0.0797 - mean_squared_error: 0.0797 - val_loss: 0.0942 - val_mean_squared_error: 0.0942\n",
            "Epoch 13/15\n",
            "30/30 [==============================] - 0s 3ms/step - loss: 0.0796 - mean_squared_error: 0.0796 - val_loss: 0.0936 - val_mean_squared_error: 0.0936\n",
            "Epoch 14/15\n",
            "30/30 [==============================] - 0s 3ms/step - loss: 0.0797 - mean_squared_error: 0.0797 - val_loss: 0.0936 - val_mean_squared_error: 0.0936\n",
            "Epoch 15/15\n",
            "30/30 [==============================] - 0s 3ms/step - loss: 0.0792 - mean_squared_error: 0.0792 - val_loss: 0.0926 - val_mean_squared_error: 0.0926\n",
            "Test loss: 0.0683978796005249\n",
            "Test mse: 0.0683978796005249\n"
          ]
        }
      ],
      "source": [
        "model.compile(optimizer ='adam', loss = 'mean_squared_error', \n",
        "              metrics =[metrics.mse])\n",
        "\n",
        "history = model.fit(X_train, y_train, validation_data=(X_val,y_val), epochs=15, batch_size=32)\n",
        "score = model.evaluate(X_test, y_test, verbose=0)\n",
        "print('Test loss:', score[0])\n",
        "print('Test mse:', score[1])"
      ]
    },
    {
      "cell_type": "markdown",
      "metadata": {
        "id": "VXN3t9JBYJ34"
      },
      "source": [
        "[Problem 6] Learning MNIST with Keras. Please rewrite the multi-valued classification of images by MNIST dataset by TensorFlow to Keras."
      ]
    },
    {
      "cell_type": "code",
      "execution_count": 151,
      "metadata": {
        "colab": {
          "base_uri": "https://localhost:8080/"
        },
        "id": "ATQY8ObduSHZ",
        "outputId": "9b5ad382-e6ff-49ee-9a64-4e7dcd020a1e"
      },
      "outputs": [
        {
          "name": "stderr",
          "output_type": "stream",
          "text": [
            "<ipython-input-151-722672cbbb03>:5: DeprecationWarning: `np.float` is a deprecated alias for the builtin `float`. To silence this warning, use `float` by itself. Doing this will not modify any behavior and is safe. If you specifically wanted the numpy scalar type, use `np.float64` here.\n",
            "Deprecated in NumPy 1.20; for more details and guidance: https://numpy.org/devdocs/release/1.20.0-notes.html#deprecations\n",
            "  X_train = x_train.astype(np.float)\n",
            "<ipython-input-151-722672cbbb03>:6: DeprecationWarning: `np.float` is a deprecated alias for the builtin `float`. To silence this warning, use `float` by itself. Doing this will not modify any behavior and is safe. If you specifically wanted the numpy scalar type, use `np.float64` here.\n",
            "Deprecated in NumPy 1.20; for more details and guidance: https://numpy.org/devdocs/release/1.20.0-notes.html#deprecations\n",
            "  X_test = x_test.astype(np.float)\n",
            "/usr/local/lib/python3.10/dist-packages/sklearn/preprocessing/_encoders.py:868: FutureWarning: `sparse` was renamed to `sparse_output` in version 1.2 and will be removed in 1.4. `sparse_output` is ignored unless you leave `sparse` to its default value.\n",
            "  warnings.warn(\n",
            "/usr/local/lib/python3.10/dist-packages/sklearn/preprocessing/_encoders.py:868: FutureWarning: `sparse` was renamed to `sparse_output` in version 1.2 and will be removed in 1.4. `sparse_output` is ignored unless you leave `sparse` to its default value.\n",
            "  warnings.warn(\n"
          ]
        }
      ],
      "source": [
        "(x_train,y_train),(x_test,y_test)=mnist.load_data()\n",
        "x_train.shape\n",
        "y_train.shape\n",
        "\n",
        "X_train = x_train.astype(np.float)\n",
        "X_test = x_test.astype(np.float)\n",
        "X_train /= 255\n",
        "X_test /= 255\n",
        "\n",
        "enc = OneHotEncoder(handle_unknown='ignore',sparse=False)\n",
        "y_train_one_hot = enc.fit_transform(y_train[:,np.newaxis])\n",
        "y_test_one_hot = enc.fit_transform(y_test[:,np.newaxis])\n",
        "\n",
        "X_train, X_val, y_train, y_val = train_test_split(X_train, y_train_one_hot, test_size=0.2, random_state=0)"
      ]
    },
    {
      "cell_type": "code",
      "execution_count": 152,
      "metadata": {
        "colab": {
          "base_uri": "https://localhost:8080/"
        },
        "id": "1YSbFOXLvQgY",
        "outputId": "abfe6252-2bae-43f4-c821-285932371d1b"
      },
      "outputs": [
        {
          "name": "stdout",
          "output_type": "stream",
          "text": [
            "Model: \"sequential_32\"\n",
            "_________________________________________________________________\n",
            " Layer (type)                Output Shape              Param #   \n",
            "=================================================================\n",
            " conv2d_11 (Conv2D)          (None, 26, 26, 32)        320       \n",
            "                                                                 \n",
            " max_pooling2d_11 (MaxPoolin  (None, 13, 13, 32)       0         \n",
            " g2D)                                                            \n",
            "                                                                 \n",
            " flatten_15 (Flatten)        (None, 5408)              0         \n",
            "                                                                 \n",
            " dense_57 (Dense)            (None, 100)               540900    \n",
            "                                                                 \n",
            " dense_58 (Dense)            (None, 10)                1010      \n",
            "                                                                 \n",
            "=================================================================\n",
            "Total params: 542,230\n",
            "Trainable params: 542,230\n",
            "Non-trainable params: 0\n",
            "_________________________________________________________________\n"
          ]
        }
      ],
      "source": [
        " model = Sequential()\n",
        " model.add(Conv2D(32, (3,3), activation = 'relu', input_shape = (28,28,1)))\n",
        " model.add(MaxPooling2D((2,2)))\n",
        " model.add(Flatten())\n",
        " model.add(Dense(100, activation = 'relu', kernel_initializer='he_uniform'))\n",
        " model.add(Dense(10, activation='softmax'))\n",
        "\n",
        " model.summary()"
      ]
    },
    {
      "cell_type": "code",
      "execution_count": 153,
      "metadata": {
        "colab": {
          "base_uri": "https://localhost:8080/"
        },
        "id": "80Xp978JwdrZ",
        "outputId": "436422aa-fcb6-461c-a2a0-107339c1e2af"
      },
      "outputs": [
        {
          "name": "stdout",
          "output_type": "stream",
          "text": [
            "Epoch 1/5\n",
            "1500/1500 [==============================] - 31s 21ms/step - loss: 0.5287 - accuracy: 0.8568 - val_loss: 0.2628 - val_accuracy: 0.9266\n",
            "Epoch 2/5\n",
            "1500/1500 [==============================] - 25s 17ms/step - loss: 0.2524 - accuracy: 0.9255 - val_loss: 0.1968 - val_accuracy: 0.9424\n",
            "Epoch 3/5\n",
            "1500/1500 [==============================] - 25s 17ms/step - loss: 0.1997 - accuracy: 0.9408 - val_loss: 0.1682 - val_accuracy: 0.9513\n",
            "Epoch 4/5\n",
            "1500/1500 [==============================] - 25s 17ms/step - loss: 0.1655 - accuracy: 0.9513 - val_loss: 0.1494 - val_accuracy: 0.9548\n",
            "Epoch 5/5\n",
            "1500/1500 [==============================] - 25s 17ms/step - loss: 0.1394 - accuracy: 0.9585 - val_loss: 0.1262 - val_accuracy: 0.9620\n",
            "Test loss: 0.12847782671451569\n",
            "Test acc: 0.9641000032424927\n"
          ]
        }
      ],
      "source": [
        "opt = SGD(learning_rate=0.01)\n",
        "model.compile(optimizer=opt, loss='categorical_crossentropy',metrics=['accuracy'])\n",
        "\n",
        "history = model.fit(\n",
        "    X_train,\n",
        "    y_train,\n",
        "    validation_data=(X_val, y_val),\n",
        "    epochs = 5,\n",
        "    batch_size = 32,\n",
        "    verbose = True)\n",
        "\n",
        "score = model.evaluate(X_test, y_test_one_hot, verbose=0)\n",
        "print('Test loss:',score[0])\n",
        "print('Test acc:',score[1])"
      ]
    }
  ],
  "metadata": {
    "colab": {
      "authorship_tag": "ABX9TyOS+osgw95w9lsJsRwRKoG/",
      "include_colab_link": true,
      "provenance": []
    },
    "kernelspec": {
      "display_name": "Python 3",
      "name": "python3"
    },
    "language_info": {
      "name": "python"
    }
  },
  "nbformat": 4,
  "nbformat_minor": 0
}
